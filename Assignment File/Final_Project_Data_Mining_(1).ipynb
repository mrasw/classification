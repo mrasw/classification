{
  "cells": [
    {
      "cell_type": "markdown",
      "metadata": {
        "id": "view-in-github",
        "colab_type": "text"
      },
      "source": [
        "<a href=\"https://colab.research.google.com/github/mrasw/classification/blob/main/Final_Project_Data_Mining_(1).ipynb\" target=\"_parent\"><img src=\"https://colab.research.google.com/assets/colab-badge.svg\" alt=\"Open In Colab\"/></a>"
      ]
    },
    {
      "cell_type": "code",
      "execution_count": null,
      "id": "7857b97c",
      "metadata": {
        "id": "7857b97c"
      },
      "outputs": [],
      "source": [
        "import numpy as np\n",
        "import pandas as pd\n",
        "import matplotlib.pyplot as plt\n",
        "import seaborn as sns\n",
        "\n",
        "from sklearn.preprocessing import LabelEncoder\n",
        "from sklearn.preprocessing import StandardScaler\n",
        "from sklearn.model_selection import train_test_split\n",
        "from sklearn.linear_model import LinearRegression, Ridge\n",
        "R = Ridge()\n",
        "from sklearn.ensemble import RandomForestRegressor\n",
        "RF = RandomForestRegressor()\n",
        "from sklearn.metrics import r2_score, mean_squared_error, mean_absolute_error\n",
        "from sklearn import neighbors\n",
        "from sklearn.ensemble import RandomForestClassifier\n",
        "from sklearn.metrics import classification_report\n",
        "from sklearn import metrics\n",
        "from sklearn.model_selection import KFold\n",
        "from sklearn.naive_bayes import GaussianNB"
      ]
    },
    {
      "cell_type": "code",
      "source": [
        "from google.colab import drive\n",
        "drive.mount('/content/drive')"
      ],
      "metadata": {
        "colab": {
          "base_uri": "https://localhost:8080/"
        },
        "id": "O4a9toa6rSf4",
        "outputId": "82207c17-21a7-42a8-c771-5e6d84fd6310"
      },
      "id": "O4a9toa6rSf4",
      "execution_count": null,
      "outputs": [
        {
          "output_type": "stream",
          "name": "stdout",
          "text": [
            "Mounted at /content/drive\n"
          ]
        }
      ]
    },
    {
      "cell_type": "markdown",
      "id": "7af5c628",
      "metadata": {
        "id": "7af5c628"
      },
      "source": [
        "## DATA INPUT"
      ]
    },
    {
      "cell_type": "code",
      "execution_count": null,
      "id": "473131e5",
      "metadata": {
        "scrolled": true,
        "colab": {
          "base_uri": "https://localhost:8080/",
          "height": 488
        },
        "id": "473131e5",
        "outputId": "ddeebf2d-fc55-4b71-803f-5d7fb015fe46"
      },
      "outputs": [
        {
          "output_type": "execute_result",
          "data": {
            "text/plain": [
              "      battery_power  blue  clock_speed  dual_sim  fc  four_g  int_memory  \\\n",
              "0               842     0          2.2         0   1       0           7   \n",
              "1              1021     1          0.5         1   0       1          53   \n",
              "2               563     1          0.5         1   2       1          41   \n",
              "3               615     1          2.5         0   0       0          10   \n",
              "4              1821     1          1.2         0  13       1          44   \n",
              "...             ...   ...          ...       ...  ..     ...         ...   \n",
              "1995            794     1          0.5         1   0       1           2   \n",
              "1996           1965     1          2.6         1   0       0          39   \n",
              "1997           1911     0          0.9         1   1       1          36   \n",
              "1998           1512     0          0.9         0   4       1          46   \n",
              "1999            510     1          2.0         1   5       1          45   \n",
              "\n",
              "      m_dep  mobile_wt  n_cores  ...  px_height  px_width   ram  sc_h  sc_w  \\\n",
              "0       0.6        188        2  ...         20       756  2549     9     7   \n",
              "1       0.7        136        3  ...        905      1988  2631    17     3   \n",
              "2       0.9        145        5  ...       1263      1716  2603    11     2   \n",
              "3       0.8        131        6  ...       1216      1786  2769    16     8   \n",
              "4       0.6        141        2  ...       1208      1212  1411     8     2   \n",
              "...     ...        ...      ...  ...        ...       ...   ...   ...   ...   \n",
              "1995    0.8        106        6  ...       1222      1890   668    13     4   \n",
              "1996    0.2        187        4  ...        915      1965  2032    11    10   \n",
              "1997    0.7        108        8  ...        868      1632  3057     9     1   \n",
              "1998    0.1        145        5  ...        336       670   869    18    10   \n",
              "1999    0.9        168        6  ...        483       754  3919    19     4   \n",
              "\n",
              "      talk_time  three_g  touch_screen  wifi  price_range  \n",
              "0            19        0             0     1            1  \n",
              "1             7        1             1     0            2  \n",
              "2             9        1             1     0            2  \n",
              "3            11        1             0     0            2  \n",
              "4            15        1             1     0            1  \n",
              "...         ...      ...           ...   ...          ...  \n",
              "1995         19        1             1     0            0  \n",
              "1996         16        1             1     1            2  \n",
              "1997          5        1             1     0            3  \n",
              "1998         19        1             1     1            0  \n",
              "1999          2        1             1     1            3  \n",
              "\n",
              "[2000 rows x 21 columns]"
            ],
            "text/html": [
              "\n",
              "  <div id=\"df-ab7e9171-02af-4bad-abe8-303ebbe9618d\">\n",
              "    <div class=\"colab-df-container\">\n",
              "      <div>\n",
              "<style scoped>\n",
              "    .dataframe tbody tr th:only-of-type {\n",
              "        vertical-align: middle;\n",
              "    }\n",
              "\n",
              "    .dataframe tbody tr th {\n",
              "        vertical-align: top;\n",
              "    }\n",
              "\n",
              "    .dataframe thead th {\n",
              "        text-align: right;\n",
              "    }\n",
              "</style>\n",
              "<table border=\"1\" class=\"dataframe\">\n",
              "  <thead>\n",
              "    <tr style=\"text-align: right;\">\n",
              "      <th></th>\n",
              "      <th>battery_power</th>\n",
              "      <th>blue</th>\n",
              "      <th>clock_speed</th>\n",
              "      <th>dual_sim</th>\n",
              "      <th>fc</th>\n",
              "      <th>four_g</th>\n",
              "      <th>int_memory</th>\n",
              "      <th>m_dep</th>\n",
              "      <th>mobile_wt</th>\n",
              "      <th>n_cores</th>\n",
              "      <th>...</th>\n",
              "      <th>px_height</th>\n",
              "      <th>px_width</th>\n",
              "      <th>ram</th>\n",
              "      <th>sc_h</th>\n",
              "      <th>sc_w</th>\n",
              "      <th>talk_time</th>\n",
              "      <th>three_g</th>\n",
              "      <th>touch_screen</th>\n",
              "      <th>wifi</th>\n",
              "      <th>price_range</th>\n",
              "    </tr>\n",
              "  </thead>\n",
              "  <tbody>\n",
              "    <tr>\n",
              "      <th>0</th>\n",
              "      <td>842</td>\n",
              "      <td>0</td>\n",
              "      <td>2.2</td>\n",
              "      <td>0</td>\n",
              "      <td>1</td>\n",
              "      <td>0</td>\n",
              "      <td>7</td>\n",
              "      <td>0.6</td>\n",
              "      <td>188</td>\n",
              "      <td>2</td>\n",
              "      <td>...</td>\n",
              "      <td>20</td>\n",
              "      <td>756</td>\n",
              "      <td>2549</td>\n",
              "      <td>9</td>\n",
              "      <td>7</td>\n",
              "      <td>19</td>\n",
              "      <td>0</td>\n",
              "      <td>0</td>\n",
              "      <td>1</td>\n",
              "      <td>1</td>\n",
              "    </tr>\n",
              "    <tr>\n",
              "      <th>1</th>\n",
              "      <td>1021</td>\n",
              "      <td>1</td>\n",
              "      <td>0.5</td>\n",
              "      <td>1</td>\n",
              "      <td>0</td>\n",
              "      <td>1</td>\n",
              "      <td>53</td>\n",
              "      <td>0.7</td>\n",
              "      <td>136</td>\n",
              "      <td>3</td>\n",
              "      <td>...</td>\n",
              "      <td>905</td>\n",
              "      <td>1988</td>\n",
              "      <td>2631</td>\n",
              "      <td>17</td>\n",
              "      <td>3</td>\n",
              "      <td>7</td>\n",
              "      <td>1</td>\n",
              "      <td>1</td>\n",
              "      <td>0</td>\n",
              "      <td>2</td>\n",
              "    </tr>\n",
              "    <tr>\n",
              "      <th>2</th>\n",
              "      <td>563</td>\n",
              "      <td>1</td>\n",
              "      <td>0.5</td>\n",
              "      <td>1</td>\n",
              "      <td>2</td>\n",
              "      <td>1</td>\n",
              "      <td>41</td>\n",
              "      <td>0.9</td>\n",
              "      <td>145</td>\n",
              "      <td>5</td>\n",
              "      <td>...</td>\n",
              "      <td>1263</td>\n",
              "      <td>1716</td>\n",
              "      <td>2603</td>\n",
              "      <td>11</td>\n",
              "      <td>2</td>\n",
              "      <td>9</td>\n",
              "      <td>1</td>\n",
              "      <td>1</td>\n",
              "      <td>0</td>\n",
              "      <td>2</td>\n",
              "    </tr>\n",
              "    <tr>\n",
              "      <th>3</th>\n",
              "      <td>615</td>\n",
              "      <td>1</td>\n",
              "      <td>2.5</td>\n",
              "      <td>0</td>\n",
              "      <td>0</td>\n",
              "      <td>0</td>\n",
              "      <td>10</td>\n",
              "      <td>0.8</td>\n",
              "      <td>131</td>\n",
              "      <td>6</td>\n",
              "      <td>...</td>\n",
              "      <td>1216</td>\n",
              "      <td>1786</td>\n",
              "      <td>2769</td>\n",
              "      <td>16</td>\n",
              "      <td>8</td>\n",
              "      <td>11</td>\n",
              "      <td>1</td>\n",
              "      <td>0</td>\n",
              "      <td>0</td>\n",
              "      <td>2</td>\n",
              "    </tr>\n",
              "    <tr>\n",
              "      <th>4</th>\n",
              "      <td>1821</td>\n",
              "      <td>1</td>\n",
              "      <td>1.2</td>\n",
              "      <td>0</td>\n",
              "      <td>13</td>\n",
              "      <td>1</td>\n",
              "      <td>44</td>\n",
              "      <td>0.6</td>\n",
              "      <td>141</td>\n",
              "      <td>2</td>\n",
              "      <td>...</td>\n",
              "      <td>1208</td>\n",
              "      <td>1212</td>\n",
              "      <td>1411</td>\n",
              "      <td>8</td>\n",
              "      <td>2</td>\n",
              "      <td>15</td>\n",
              "      <td>1</td>\n",
              "      <td>1</td>\n",
              "      <td>0</td>\n",
              "      <td>1</td>\n",
              "    </tr>\n",
              "    <tr>\n",
              "      <th>...</th>\n",
              "      <td>...</td>\n",
              "      <td>...</td>\n",
              "      <td>...</td>\n",
              "      <td>...</td>\n",
              "      <td>...</td>\n",
              "      <td>...</td>\n",
              "      <td>...</td>\n",
              "      <td>...</td>\n",
              "      <td>...</td>\n",
              "      <td>...</td>\n",
              "      <td>...</td>\n",
              "      <td>...</td>\n",
              "      <td>...</td>\n",
              "      <td>...</td>\n",
              "      <td>...</td>\n",
              "      <td>...</td>\n",
              "      <td>...</td>\n",
              "      <td>...</td>\n",
              "      <td>...</td>\n",
              "      <td>...</td>\n",
              "      <td>...</td>\n",
              "    </tr>\n",
              "    <tr>\n",
              "      <th>1995</th>\n",
              "      <td>794</td>\n",
              "      <td>1</td>\n",
              "      <td>0.5</td>\n",
              "      <td>1</td>\n",
              "      <td>0</td>\n",
              "      <td>1</td>\n",
              "      <td>2</td>\n",
              "      <td>0.8</td>\n",
              "      <td>106</td>\n",
              "      <td>6</td>\n",
              "      <td>...</td>\n",
              "      <td>1222</td>\n",
              "      <td>1890</td>\n",
              "      <td>668</td>\n",
              "      <td>13</td>\n",
              "      <td>4</td>\n",
              "      <td>19</td>\n",
              "      <td>1</td>\n",
              "      <td>1</td>\n",
              "      <td>0</td>\n",
              "      <td>0</td>\n",
              "    </tr>\n",
              "    <tr>\n",
              "      <th>1996</th>\n",
              "      <td>1965</td>\n",
              "      <td>1</td>\n",
              "      <td>2.6</td>\n",
              "      <td>1</td>\n",
              "      <td>0</td>\n",
              "      <td>0</td>\n",
              "      <td>39</td>\n",
              "      <td>0.2</td>\n",
              "      <td>187</td>\n",
              "      <td>4</td>\n",
              "      <td>...</td>\n",
              "      <td>915</td>\n",
              "      <td>1965</td>\n",
              "      <td>2032</td>\n",
              "      <td>11</td>\n",
              "      <td>10</td>\n",
              "      <td>16</td>\n",
              "      <td>1</td>\n",
              "      <td>1</td>\n",
              "      <td>1</td>\n",
              "      <td>2</td>\n",
              "    </tr>\n",
              "    <tr>\n",
              "      <th>1997</th>\n",
              "      <td>1911</td>\n",
              "      <td>0</td>\n",
              "      <td>0.9</td>\n",
              "      <td>1</td>\n",
              "      <td>1</td>\n",
              "      <td>1</td>\n",
              "      <td>36</td>\n",
              "      <td>0.7</td>\n",
              "      <td>108</td>\n",
              "      <td>8</td>\n",
              "      <td>...</td>\n",
              "      <td>868</td>\n",
              "      <td>1632</td>\n",
              "      <td>3057</td>\n",
              "      <td>9</td>\n",
              "      <td>1</td>\n",
              "      <td>5</td>\n",
              "      <td>1</td>\n",
              "      <td>1</td>\n",
              "      <td>0</td>\n",
              "      <td>3</td>\n",
              "    </tr>\n",
              "    <tr>\n",
              "      <th>1998</th>\n",
              "      <td>1512</td>\n",
              "      <td>0</td>\n",
              "      <td>0.9</td>\n",
              "      <td>0</td>\n",
              "      <td>4</td>\n",
              "      <td>1</td>\n",
              "      <td>46</td>\n",
              "      <td>0.1</td>\n",
              "      <td>145</td>\n",
              "      <td>5</td>\n",
              "      <td>...</td>\n",
              "      <td>336</td>\n",
              "      <td>670</td>\n",
              "      <td>869</td>\n",
              "      <td>18</td>\n",
              "      <td>10</td>\n",
              "      <td>19</td>\n",
              "      <td>1</td>\n",
              "      <td>1</td>\n",
              "      <td>1</td>\n",
              "      <td>0</td>\n",
              "    </tr>\n",
              "    <tr>\n",
              "      <th>1999</th>\n",
              "      <td>510</td>\n",
              "      <td>1</td>\n",
              "      <td>2.0</td>\n",
              "      <td>1</td>\n",
              "      <td>5</td>\n",
              "      <td>1</td>\n",
              "      <td>45</td>\n",
              "      <td>0.9</td>\n",
              "      <td>168</td>\n",
              "      <td>6</td>\n",
              "      <td>...</td>\n",
              "      <td>483</td>\n",
              "      <td>754</td>\n",
              "      <td>3919</td>\n",
              "      <td>19</td>\n",
              "      <td>4</td>\n",
              "      <td>2</td>\n",
              "      <td>1</td>\n",
              "      <td>1</td>\n",
              "      <td>1</td>\n",
              "      <td>3</td>\n",
              "    </tr>\n",
              "  </tbody>\n",
              "</table>\n",
              "<p>2000 rows × 21 columns</p>\n",
              "</div>\n",
              "      <button class=\"colab-df-convert\" onclick=\"convertToInteractive('df-ab7e9171-02af-4bad-abe8-303ebbe9618d')\"\n",
              "              title=\"Convert this dataframe to an interactive table.\"\n",
              "              style=\"display:none;\">\n",
              "        \n",
              "  <svg xmlns=\"http://www.w3.org/2000/svg\" height=\"24px\"viewBox=\"0 0 24 24\"\n",
              "       width=\"24px\">\n",
              "    <path d=\"M0 0h24v24H0V0z\" fill=\"none\"/>\n",
              "    <path d=\"M18.56 5.44l.94 2.06.94-2.06 2.06-.94-2.06-.94-.94-2.06-.94 2.06-2.06.94zm-11 1L8.5 8.5l.94-2.06 2.06-.94-2.06-.94L8.5 2.5l-.94 2.06-2.06.94zm10 10l.94 2.06.94-2.06 2.06-.94-2.06-.94-.94-2.06-.94 2.06-2.06.94z\"/><path d=\"M17.41 7.96l-1.37-1.37c-.4-.4-.92-.59-1.43-.59-.52 0-1.04.2-1.43.59L10.3 9.45l-7.72 7.72c-.78.78-.78 2.05 0 2.83L4 21.41c.39.39.9.59 1.41.59.51 0 1.02-.2 1.41-.59l7.78-7.78 2.81-2.81c.8-.78.8-2.07 0-2.86zM5.41 20L4 18.59l7.72-7.72 1.47 1.35L5.41 20z\"/>\n",
              "  </svg>\n",
              "      </button>\n",
              "      \n",
              "  <style>\n",
              "    .colab-df-container {\n",
              "      display:flex;\n",
              "      flex-wrap:wrap;\n",
              "      gap: 12px;\n",
              "    }\n",
              "\n",
              "    .colab-df-convert {\n",
              "      background-color: #E8F0FE;\n",
              "      border: none;\n",
              "      border-radius: 50%;\n",
              "      cursor: pointer;\n",
              "      display: none;\n",
              "      fill: #1967D2;\n",
              "      height: 32px;\n",
              "      padding: 0 0 0 0;\n",
              "      width: 32px;\n",
              "    }\n",
              "\n",
              "    .colab-df-convert:hover {\n",
              "      background-color: #E2EBFA;\n",
              "      box-shadow: 0px 1px 2px rgba(60, 64, 67, 0.3), 0px 1px 3px 1px rgba(60, 64, 67, 0.15);\n",
              "      fill: #174EA6;\n",
              "    }\n",
              "\n",
              "    [theme=dark] .colab-df-convert {\n",
              "      background-color: #3B4455;\n",
              "      fill: #D2E3FC;\n",
              "    }\n",
              "\n",
              "    [theme=dark] .colab-df-convert:hover {\n",
              "      background-color: #434B5C;\n",
              "      box-shadow: 0px 1px 3px 1px rgba(0, 0, 0, 0.15);\n",
              "      filter: drop-shadow(0px 1px 2px rgba(0, 0, 0, 0.3));\n",
              "      fill: #FFFFFF;\n",
              "    }\n",
              "  </style>\n",
              "\n",
              "      <script>\n",
              "        const buttonEl =\n",
              "          document.querySelector('#df-ab7e9171-02af-4bad-abe8-303ebbe9618d button.colab-df-convert');\n",
              "        buttonEl.style.display =\n",
              "          google.colab.kernel.accessAllowed ? 'block' : 'none';\n",
              "\n",
              "        async function convertToInteractive(key) {\n",
              "          const element = document.querySelector('#df-ab7e9171-02af-4bad-abe8-303ebbe9618d');\n",
              "          const dataTable =\n",
              "            await google.colab.kernel.invokeFunction('convertToInteractive',\n",
              "                                                     [key], {});\n",
              "          if (!dataTable) return;\n",
              "\n",
              "          const docLinkHtml = 'Like what you see? Visit the ' +\n",
              "            '<a target=\"_blank\" href=https://colab.research.google.com/notebooks/data_table.ipynb>data table notebook</a>'\n",
              "            + ' to learn more about interactive tables.';\n",
              "          element.innerHTML = '';\n",
              "          dataTable['output_type'] = 'display_data';\n",
              "          await google.colab.output.renderOutput(dataTable, element);\n",
              "          const docLink = document.createElement('div');\n",
              "          docLink.innerHTML = docLinkHtml;\n",
              "          element.appendChild(docLink);\n",
              "        }\n",
              "      </script>\n",
              "    </div>\n",
              "  </div>\n",
              "  "
            ]
          },
          "metadata": {},
          "execution_count": 3
        }
      ],
      "source": [
        "mydata = pd.read_csv('/content/drive/MyDrive/train.csv')\n",
        "mydata"
      ]
    },
    {
      "cell_type": "code",
      "execution_count": null,
      "id": "817ca102",
      "metadata": {
        "scrolled": false,
        "colab": {
          "base_uri": "https://localhost:8080/",
          "height": 394
        },
        "id": "817ca102",
        "outputId": "f32e5c43-dde6-40d6-96c4-33b815624eb0"
      },
      "outputs": [
        {
          "output_type": "execute_result",
          "data": {
            "text/plain": [
              "       battery_power       blue  clock_speed     dual_sim           fc  \\\n",
              "count    2000.000000  2000.0000  2000.000000  2000.000000  2000.000000   \n",
              "mean     1238.518500     0.4950     1.522250     0.509500     4.309500   \n",
              "std       439.418206     0.5001     0.816004     0.500035     4.341444   \n",
              "min       501.000000     0.0000     0.500000     0.000000     0.000000   \n",
              "25%       851.750000     0.0000     0.700000     0.000000     1.000000   \n",
              "50%      1226.000000     0.0000     1.500000     1.000000     3.000000   \n",
              "75%      1615.250000     1.0000     2.200000     1.000000     7.000000   \n",
              "max      1998.000000     1.0000     3.000000     1.000000    19.000000   \n",
              "\n",
              "            four_g   int_memory        m_dep    mobile_wt      n_cores  ...  \\\n",
              "count  2000.000000  2000.000000  2000.000000  2000.000000  2000.000000  ...   \n",
              "mean      0.521500    32.046500     0.501750   140.249000     4.520500  ...   \n",
              "std       0.499662    18.145715     0.288416    35.399655     2.287837  ...   \n",
              "min       0.000000     2.000000     0.100000    80.000000     1.000000  ...   \n",
              "25%       0.000000    16.000000     0.200000   109.000000     3.000000  ...   \n",
              "50%       1.000000    32.000000     0.500000   141.000000     4.000000  ...   \n",
              "75%       1.000000    48.000000     0.800000   170.000000     7.000000  ...   \n",
              "max       1.000000    64.000000     1.000000   200.000000     8.000000  ...   \n",
              "\n",
              "         px_height     px_width          ram         sc_h         sc_w  \\\n",
              "count  2000.000000  2000.000000  2000.000000  2000.000000  2000.000000   \n",
              "mean    645.108000  1251.515500  2124.213000    12.306500     5.767000   \n",
              "std     443.780811   432.199447  1084.732044     4.213245     4.356398   \n",
              "min       0.000000   500.000000   256.000000     5.000000     0.000000   \n",
              "25%     282.750000   874.750000  1207.500000     9.000000     2.000000   \n",
              "50%     564.000000  1247.000000  2146.500000    12.000000     5.000000   \n",
              "75%     947.250000  1633.000000  3064.500000    16.000000     9.000000   \n",
              "max    1960.000000  1998.000000  3998.000000    19.000000    18.000000   \n",
              "\n",
              "         talk_time      three_g  touch_screen         wifi  price_range  \n",
              "count  2000.000000  2000.000000   2000.000000  2000.000000  2000.000000  \n",
              "mean     11.011000     0.761500      0.503000     0.507000     1.500000  \n",
              "std       5.463955     0.426273      0.500116     0.500076     1.118314  \n",
              "min       2.000000     0.000000      0.000000     0.000000     0.000000  \n",
              "25%       6.000000     1.000000      0.000000     0.000000     0.750000  \n",
              "50%      11.000000     1.000000      1.000000     1.000000     1.500000  \n",
              "75%      16.000000     1.000000      1.000000     1.000000     2.250000  \n",
              "max      20.000000     1.000000      1.000000     1.000000     3.000000  \n",
              "\n",
              "[8 rows x 21 columns]"
            ],
            "text/html": [
              "\n",
              "  <div id=\"df-6a1885bf-94a2-44ff-8b6f-687073a7d6ec\">\n",
              "    <div class=\"colab-df-container\">\n",
              "      <div>\n",
              "<style scoped>\n",
              "    .dataframe tbody tr th:only-of-type {\n",
              "        vertical-align: middle;\n",
              "    }\n",
              "\n",
              "    .dataframe tbody tr th {\n",
              "        vertical-align: top;\n",
              "    }\n",
              "\n",
              "    .dataframe thead th {\n",
              "        text-align: right;\n",
              "    }\n",
              "</style>\n",
              "<table border=\"1\" class=\"dataframe\">\n",
              "  <thead>\n",
              "    <tr style=\"text-align: right;\">\n",
              "      <th></th>\n",
              "      <th>battery_power</th>\n",
              "      <th>blue</th>\n",
              "      <th>clock_speed</th>\n",
              "      <th>dual_sim</th>\n",
              "      <th>fc</th>\n",
              "      <th>four_g</th>\n",
              "      <th>int_memory</th>\n",
              "      <th>m_dep</th>\n",
              "      <th>mobile_wt</th>\n",
              "      <th>n_cores</th>\n",
              "      <th>...</th>\n",
              "      <th>px_height</th>\n",
              "      <th>px_width</th>\n",
              "      <th>ram</th>\n",
              "      <th>sc_h</th>\n",
              "      <th>sc_w</th>\n",
              "      <th>talk_time</th>\n",
              "      <th>three_g</th>\n",
              "      <th>touch_screen</th>\n",
              "      <th>wifi</th>\n",
              "      <th>price_range</th>\n",
              "    </tr>\n",
              "  </thead>\n",
              "  <tbody>\n",
              "    <tr>\n",
              "      <th>count</th>\n",
              "      <td>2000.000000</td>\n",
              "      <td>2000.0000</td>\n",
              "      <td>2000.000000</td>\n",
              "      <td>2000.000000</td>\n",
              "      <td>2000.000000</td>\n",
              "      <td>2000.000000</td>\n",
              "      <td>2000.000000</td>\n",
              "      <td>2000.000000</td>\n",
              "      <td>2000.000000</td>\n",
              "      <td>2000.000000</td>\n",
              "      <td>...</td>\n",
              "      <td>2000.000000</td>\n",
              "      <td>2000.000000</td>\n",
              "      <td>2000.000000</td>\n",
              "      <td>2000.000000</td>\n",
              "      <td>2000.000000</td>\n",
              "      <td>2000.000000</td>\n",
              "      <td>2000.000000</td>\n",
              "      <td>2000.000000</td>\n",
              "      <td>2000.000000</td>\n",
              "      <td>2000.000000</td>\n",
              "    </tr>\n",
              "    <tr>\n",
              "      <th>mean</th>\n",
              "      <td>1238.518500</td>\n",
              "      <td>0.4950</td>\n",
              "      <td>1.522250</td>\n",
              "      <td>0.509500</td>\n",
              "      <td>4.309500</td>\n",
              "      <td>0.521500</td>\n",
              "      <td>32.046500</td>\n",
              "      <td>0.501750</td>\n",
              "      <td>140.249000</td>\n",
              "      <td>4.520500</td>\n",
              "      <td>...</td>\n",
              "      <td>645.108000</td>\n",
              "      <td>1251.515500</td>\n",
              "      <td>2124.213000</td>\n",
              "      <td>12.306500</td>\n",
              "      <td>5.767000</td>\n",
              "      <td>11.011000</td>\n",
              "      <td>0.761500</td>\n",
              "      <td>0.503000</td>\n",
              "      <td>0.507000</td>\n",
              "      <td>1.500000</td>\n",
              "    </tr>\n",
              "    <tr>\n",
              "      <th>std</th>\n",
              "      <td>439.418206</td>\n",
              "      <td>0.5001</td>\n",
              "      <td>0.816004</td>\n",
              "      <td>0.500035</td>\n",
              "      <td>4.341444</td>\n",
              "      <td>0.499662</td>\n",
              "      <td>18.145715</td>\n",
              "      <td>0.288416</td>\n",
              "      <td>35.399655</td>\n",
              "      <td>2.287837</td>\n",
              "      <td>...</td>\n",
              "      <td>443.780811</td>\n",
              "      <td>432.199447</td>\n",
              "      <td>1084.732044</td>\n",
              "      <td>4.213245</td>\n",
              "      <td>4.356398</td>\n",
              "      <td>5.463955</td>\n",
              "      <td>0.426273</td>\n",
              "      <td>0.500116</td>\n",
              "      <td>0.500076</td>\n",
              "      <td>1.118314</td>\n",
              "    </tr>\n",
              "    <tr>\n",
              "      <th>min</th>\n",
              "      <td>501.000000</td>\n",
              "      <td>0.0000</td>\n",
              "      <td>0.500000</td>\n",
              "      <td>0.000000</td>\n",
              "      <td>0.000000</td>\n",
              "      <td>0.000000</td>\n",
              "      <td>2.000000</td>\n",
              "      <td>0.100000</td>\n",
              "      <td>80.000000</td>\n",
              "      <td>1.000000</td>\n",
              "      <td>...</td>\n",
              "      <td>0.000000</td>\n",
              "      <td>500.000000</td>\n",
              "      <td>256.000000</td>\n",
              "      <td>5.000000</td>\n",
              "      <td>0.000000</td>\n",
              "      <td>2.000000</td>\n",
              "      <td>0.000000</td>\n",
              "      <td>0.000000</td>\n",
              "      <td>0.000000</td>\n",
              "      <td>0.000000</td>\n",
              "    </tr>\n",
              "    <tr>\n",
              "      <th>25%</th>\n",
              "      <td>851.750000</td>\n",
              "      <td>0.0000</td>\n",
              "      <td>0.700000</td>\n",
              "      <td>0.000000</td>\n",
              "      <td>1.000000</td>\n",
              "      <td>0.000000</td>\n",
              "      <td>16.000000</td>\n",
              "      <td>0.200000</td>\n",
              "      <td>109.000000</td>\n",
              "      <td>3.000000</td>\n",
              "      <td>...</td>\n",
              "      <td>282.750000</td>\n",
              "      <td>874.750000</td>\n",
              "      <td>1207.500000</td>\n",
              "      <td>9.000000</td>\n",
              "      <td>2.000000</td>\n",
              "      <td>6.000000</td>\n",
              "      <td>1.000000</td>\n",
              "      <td>0.000000</td>\n",
              "      <td>0.000000</td>\n",
              "      <td>0.750000</td>\n",
              "    </tr>\n",
              "    <tr>\n",
              "      <th>50%</th>\n",
              "      <td>1226.000000</td>\n",
              "      <td>0.0000</td>\n",
              "      <td>1.500000</td>\n",
              "      <td>1.000000</td>\n",
              "      <td>3.000000</td>\n",
              "      <td>1.000000</td>\n",
              "      <td>32.000000</td>\n",
              "      <td>0.500000</td>\n",
              "      <td>141.000000</td>\n",
              "      <td>4.000000</td>\n",
              "      <td>...</td>\n",
              "      <td>564.000000</td>\n",
              "      <td>1247.000000</td>\n",
              "      <td>2146.500000</td>\n",
              "      <td>12.000000</td>\n",
              "      <td>5.000000</td>\n",
              "      <td>11.000000</td>\n",
              "      <td>1.000000</td>\n",
              "      <td>1.000000</td>\n",
              "      <td>1.000000</td>\n",
              "      <td>1.500000</td>\n",
              "    </tr>\n",
              "    <tr>\n",
              "      <th>75%</th>\n",
              "      <td>1615.250000</td>\n",
              "      <td>1.0000</td>\n",
              "      <td>2.200000</td>\n",
              "      <td>1.000000</td>\n",
              "      <td>7.000000</td>\n",
              "      <td>1.000000</td>\n",
              "      <td>48.000000</td>\n",
              "      <td>0.800000</td>\n",
              "      <td>170.000000</td>\n",
              "      <td>7.000000</td>\n",
              "      <td>...</td>\n",
              "      <td>947.250000</td>\n",
              "      <td>1633.000000</td>\n",
              "      <td>3064.500000</td>\n",
              "      <td>16.000000</td>\n",
              "      <td>9.000000</td>\n",
              "      <td>16.000000</td>\n",
              "      <td>1.000000</td>\n",
              "      <td>1.000000</td>\n",
              "      <td>1.000000</td>\n",
              "      <td>2.250000</td>\n",
              "    </tr>\n",
              "    <tr>\n",
              "      <th>max</th>\n",
              "      <td>1998.000000</td>\n",
              "      <td>1.0000</td>\n",
              "      <td>3.000000</td>\n",
              "      <td>1.000000</td>\n",
              "      <td>19.000000</td>\n",
              "      <td>1.000000</td>\n",
              "      <td>64.000000</td>\n",
              "      <td>1.000000</td>\n",
              "      <td>200.000000</td>\n",
              "      <td>8.000000</td>\n",
              "      <td>...</td>\n",
              "      <td>1960.000000</td>\n",
              "      <td>1998.000000</td>\n",
              "      <td>3998.000000</td>\n",
              "      <td>19.000000</td>\n",
              "      <td>18.000000</td>\n",
              "      <td>20.000000</td>\n",
              "      <td>1.000000</td>\n",
              "      <td>1.000000</td>\n",
              "      <td>1.000000</td>\n",
              "      <td>3.000000</td>\n",
              "    </tr>\n",
              "  </tbody>\n",
              "</table>\n",
              "<p>8 rows × 21 columns</p>\n",
              "</div>\n",
              "      <button class=\"colab-df-convert\" onclick=\"convertToInteractive('df-6a1885bf-94a2-44ff-8b6f-687073a7d6ec')\"\n",
              "              title=\"Convert this dataframe to an interactive table.\"\n",
              "              style=\"display:none;\">\n",
              "        \n",
              "  <svg xmlns=\"http://www.w3.org/2000/svg\" height=\"24px\"viewBox=\"0 0 24 24\"\n",
              "       width=\"24px\">\n",
              "    <path d=\"M0 0h24v24H0V0z\" fill=\"none\"/>\n",
              "    <path d=\"M18.56 5.44l.94 2.06.94-2.06 2.06-.94-2.06-.94-.94-2.06-.94 2.06-2.06.94zm-11 1L8.5 8.5l.94-2.06 2.06-.94-2.06-.94L8.5 2.5l-.94 2.06-2.06.94zm10 10l.94 2.06.94-2.06 2.06-.94-2.06-.94-.94-2.06-.94 2.06-2.06.94z\"/><path d=\"M17.41 7.96l-1.37-1.37c-.4-.4-.92-.59-1.43-.59-.52 0-1.04.2-1.43.59L10.3 9.45l-7.72 7.72c-.78.78-.78 2.05 0 2.83L4 21.41c.39.39.9.59 1.41.59.51 0 1.02-.2 1.41-.59l7.78-7.78 2.81-2.81c.8-.78.8-2.07 0-2.86zM5.41 20L4 18.59l7.72-7.72 1.47 1.35L5.41 20z\"/>\n",
              "  </svg>\n",
              "      </button>\n",
              "      \n",
              "  <style>\n",
              "    .colab-df-container {\n",
              "      display:flex;\n",
              "      flex-wrap:wrap;\n",
              "      gap: 12px;\n",
              "    }\n",
              "\n",
              "    .colab-df-convert {\n",
              "      background-color: #E8F0FE;\n",
              "      border: none;\n",
              "      border-radius: 50%;\n",
              "      cursor: pointer;\n",
              "      display: none;\n",
              "      fill: #1967D2;\n",
              "      height: 32px;\n",
              "      padding: 0 0 0 0;\n",
              "      width: 32px;\n",
              "    }\n",
              "\n",
              "    .colab-df-convert:hover {\n",
              "      background-color: #E2EBFA;\n",
              "      box-shadow: 0px 1px 2px rgba(60, 64, 67, 0.3), 0px 1px 3px 1px rgba(60, 64, 67, 0.15);\n",
              "      fill: #174EA6;\n",
              "    }\n",
              "\n",
              "    [theme=dark] .colab-df-convert {\n",
              "      background-color: #3B4455;\n",
              "      fill: #D2E3FC;\n",
              "    }\n",
              "\n",
              "    [theme=dark] .colab-df-convert:hover {\n",
              "      background-color: #434B5C;\n",
              "      box-shadow: 0px 1px 3px 1px rgba(0, 0, 0, 0.15);\n",
              "      filter: drop-shadow(0px 1px 2px rgba(0, 0, 0, 0.3));\n",
              "      fill: #FFFFFF;\n",
              "    }\n",
              "  </style>\n",
              "\n",
              "      <script>\n",
              "        const buttonEl =\n",
              "          document.querySelector('#df-6a1885bf-94a2-44ff-8b6f-687073a7d6ec button.colab-df-convert');\n",
              "        buttonEl.style.display =\n",
              "          google.colab.kernel.accessAllowed ? 'block' : 'none';\n",
              "\n",
              "        async function convertToInteractive(key) {\n",
              "          const element = document.querySelector('#df-6a1885bf-94a2-44ff-8b6f-687073a7d6ec');\n",
              "          const dataTable =\n",
              "            await google.colab.kernel.invokeFunction('convertToInteractive',\n",
              "                                                     [key], {});\n",
              "          if (!dataTable) return;\n",
              "\n",
              "          const docLinkHtml = 'Like what you see? Visit the ' +\n",
              "            '<a target=\"_blank\" href=https://colab.research.google.com/notebooks/data_table.ipynb>data table notebook</a>'\n",
              "            + ' to learn more about interactive tables.';\n",
              "          element.innerHTML = '';\n",
              "          dataTable['output_type'] = 'display_data';\n",
              "          await google.colab.output.renderOutput(dataTable, element);\n",
              "          const docLink = document.createElement('div');\n",
              "          docLink.innerHTML = docLinkHtml;\n",
              "          element.appendChild(docLink);\n",
              "        }\n",
              "      </script>\n",
              "    </div>\n",
              "  </div>\n",
              "  "
            ]
          },
          "metadata": {},
          "execution_count": 4
        }
      ],
      "source": [
        "mydata.describe()"
      ]
    },
    {
      "cell_type": "code",
      "execution_count": null,
      "id": "229eaa12",
      "metadata": {
        "colab": {
          "base_uri": "https://localhost:8080/",
          "height": 728
        },
        "id": "229eaa12",
        "outputId": "a7cc6339-968e-44df-cf57-61e4b6b2ae63"
      },
      "outputs": [
        {
          "output_type": "execute_result",
          "data": {
            "text/plain": [
              "<pandas.io.formats.style.Styler at 0x7f952f5d1ad0>"
            ],
            "text/html": [
              "<style type=\"text/css\">\n",
              "#T_a9ed8_row0_col1 {\n",
              "  width: 10em;\n",
              "  height: 80%;\n",
              "  background: linear-gradient(90deg,#d65f5f 58.3%, transparent 58.3%);\n",
              "}\n",
              "#T_a9ed8_row0_col2 {\n",
              "  background-color: #9ab8d8;\n",
              "  color: #000000;\n",
              "}\n",
              "#T_a9ed8_row0_col5 {\n",
              "  background-color: #509ac6;\n",
              "  color: #f1f1f1;\n",
              "}\n",
              "#T_a9ed8_row0_col7, #T_a9ed8_row12_col7 {\n",
              "  background-color: #75a9cf;\n",
              "  color: #f1f1f1;\n",
              "}\n",
              "#T_a9ed8_row1_col1 {\n",
              "  width: 10em;\n",
              "  height: 80%;\n",
              "}\n",
              "#T_a9ed8_row1_col2, #T_a9ed8_row1_col5, #T_a9ed8_row1_col7, #T_a9ed8_row2_col2, #T_a9ed8_row2_col5, #T_a9ed8_row2_col7, #T_a9ed8_row3_col2, #T_a9ed8_row3_col5, #T_a9ed8_row3_col7, #T_a9ed8_row4_col2, #T_a9ed8_row4_col5, #T_a9ed8_row5_col2, #T_a9ed8_row5_col5, #T_a9ed8_row5_col7, #T_a9ed8_row7_col2, #T_a9ed8_row7_col5, #T_a9ed8_row7_col7, #T_a9ed8_row9_col2, #T_a9ed8_row9_col5, #T_a9ed8_row9_col7, #T_a9ed8_row14_col2, #T_a9ed8_row15_col2, #T_a9ed8_row15_col5, #T_a9ed8_row17_col2, #T_a9ed8_row17_col5, #T_a9ed8_row17_col7, #T_a9ed8_row18_col2, #T_a9ed8_row18_col5, #T_a9ed8_row18_col7, #T_a9ed8_row19_col2, #T_a9ed8_row19_col5, #T_a9ed8_row19_col7, #T_a9ed8_row20_col2, #T_a9ed8_row20_col5, #T_a9ed8_row20_col7 {\n",
              "  background-color: #fff7fb;\n",
              "  color: #000000;\n",
              "}\n",
              "#T_a9ed8_row2_col1, #T_a9ed8_row3_col1, #T_a9ed8_row5_col1, #T_a9ed8_row7_col1, #T_a9ed8_row17_col1, #T_a9ed8_row18_col1, #T_a9ed8_row19_col1, #T_a9ed8_row20_col1 {\n",
              "  width: 10em;\n",
              "  height: 80%;\n",
              "  background: linear-gradient(90deg,#d65f5f 0.0%, transparent 0.0%);\n",
              "}\n",
              "#T_a9ed8_row4_col1, #T_a9ed8_row9_col1, #T_a9ed8_row15_col1 {\n",
              "  width: 10em;\n",
              "  height: 80%;\n",
              "  background: linear-gradient(90deg,#d65f5f 0.2%, transparent 0.2%);\n",
              "}\n",
              "#T_a9ed8_row4_col7, #T_a9ed8_row10_col2, #T_a9ed8_row10_col5, #T_a9ed8_row10_col7, #T_a9ed8_row14_col5, #T_a9ed8_row14_col7, #T_a9ed8_row15_col7, #T_a9ed8_row16_col2, #T_a9ed8_row16_col5, #T_a9ed8_row16_col7 {\n",
              "  background-color: #fef6fb;\n",
              "  color: #000000;\n",
              "}\n",
              "#T_a9ed8_row6_col1 {\n",
              "  width: 10em;\n",
              "  height: 80%;\n",
              "  background: linear-gradient(90deg,#d65f5f 1.5%, transparent 1.5%);\n",
              "}\n",
              "#T_a9ed8_row6_col2, #T_a9ed8_row6_col5, #T_a9ed8_row6_col7 {\n",
              "  background-color: #fdf5fa;\n",
              "  color: #000000;\n",
              "}\n",
              "#T_a9ed8_row8_col1 {\n",
              "  width: 10em;\n",
              "  height: 80%;\n",
              "  background: linear-gradient(90deg,#d65f5f 6.6%, transparent 6.6%);\n",
              "}\n",
              "#T_a9ed8_row8_col2 {\n",
              "  background-color: #faf3f9;\n",
              "  color: #000000;\n",
              "}\n",
              "#T_a9ed8_row8_col5 {\n",
              "  background-color: #f5eff6;\n",
              "  color: #000000;\n",
              "}\n",
              "#T_a9ed8_row8_col7 {\n",
              "  background-color: #f8f1f8;\n",
              "  color: #000000;\n",
              "}\n",
              "#T_a9ed8_row10_col1 {\n",
              "  width: 10em;\n",
              "  height: 80%;\n",
              "  background: linear-gradient(90deg,#d65f5f 0.4%, transparent 0.4%);\n",
              "}\n",
              "#T_a9ed8_row11_col1 {\n",
              "  width: 10em;\n",
              "  height: 80%;\n",
              "  background: linear-gradient(90deg,#d65f5f 30.4%, transparent 30.4%);\n",
              "}\n",
              "#T_a9ed8_row11_col2 {\n",
              "  background-color: #99b8d8;\n",
              "  color: #000000;\n",
              "}\n",
              "#T_a9ed8_row11_col5 {\n",
              "  background-color: #cccfe5;\n",
              "  color: #000000;\n",
              "}\n",
              "#T_a9ed8_row11_col7 {\n",
              "  background-color: #78abd0;\n",
              "  color: #f1f1f1;\n",
              "}\n",
              "#T_a9ed8_row12_col1 {\n",
              "  width: 10em;\n",
              "  height: 80%;\n",
              "  background: linear-gradient(90deg,#d65f5f 58.9%, transparent 58.9%);\n",
              "}\n",
              "#T_a9ed8_row12_col2 {\n",
              "  background-color: #9ebad9;\n",
              "  color: #000000;\n",
              "}\n",
              "#T_a9ed8_row12_col5 {\n",
              "  background-color: #4c99c5;\n",
              "  color: #f1f1f1;\n",
              "}\n",
              "#T_a9ed8_row13_col1 {\n",
              "  width: 10em;\n",
              "  height: 80%;\n",
              "  background: linear-gradient(90deg,#d65f5f 100.0%, transparent 100.0%);\n",
              "}\n",
              "#T_a9ed8_row13_col2, #T_a9ed8_row13_col5, #T_a9ed8_row13_col7 {\n",
              "  background-color: #023858;\n",
              "  color: #f1f1f1;\n",
              "}\n",
              "#T_a9ed8_row14_col1 {\n",
              "  width: 10em;\n",
              "  height: 80%;\n",
              "  background: linear-gradient(90deg,#d65f5f 0.6%, transparent 0.6%);\n",
              "}\n",
              "#T_a9ed8_row16_col1 {\n",
              "  width: 10em;\n",
              "  height: 80%;\n",
              "  background: linear-gradient(90deg,#d65f5f 0.5%, transparent 0.5%);\n",
              "}\n",
              "</style>\n",
              "<table id=\"T_a9ed8_\" class=\"dataframe\">\n",
              "  <thead>\n",
              "    <tr>\n",
              "      <th class=\"blank level0\" >&nbsp;</th>\n",
              "      <th class=\"col_heading level0 col0\" >count</th>\n",
              "      <th class=\"col_heading level0 col1\" >mean</th>\n",
              "      <th class=\"col_heading level0 col2\" >std</th>\n",
              "      <th class=\"col_heading level0 col3\" >min</th>\n",
              "      <th class=\"col_heading level0 col4\" >25%</th>\n",
              "      <th class=\"col_heading level0 col5\" >50%</th>\n",
              "      <th class=\"col_heading level0 col6\" >75%</th>\n",
              "      <th class=\"col_heading level0 col7\" >max</th>\n",
              "    </tr>\n",
              "  </thead>\n",
              "  <tbody>\n",
              "    <tr>\n",
              "      <th id=\"T_a9ed8_level0_row0\" class=\"row_heading level0 row0\" >battery_power</th>\n",
              "      <td id=\"T_a9ed8_row0_col0\" class=\"data row0 col0\" >2000.000000</td>\n",
              "      <td id=\"T_a9ed8_row0_col1\" class=\"data row0 col1\" >1238.518500</td>\n",
              "      <td id=\"T_a9ed8_row0_col2\" class=\"data row0 col2\" >439.418206</td>\n",
              "      <td id=\"T_a9ed8_row0_col3\" class=\"data row0 col3\" >501.000000</td>\n",
              "      <td id=\"T_a9ed8_row0_col4\" class=\"data row0 col4\" >851.750000</td>\n",
              "      <td id=\"T_a9ed8_row0_col5\" class=\"data row0 col5\" >1226.000000</td>\n",
              "      <td id=\"T_a9ed8_row0_col6\" class=\"data row0 col6\" >1615.250000</td>\n",
              "      <td id=\"T_a9ed8_row0_col7\" class=\"data row0 col7\" >1998.000000</td>\n",
              "    </tr>\n",
              "    <tr>\n",
              "      <th id=\"T_a9ed8_level0_row1\" class=\"row_heading level0 row1\" >blue</th>\n",
              "      <td id=\"T_a9ed8_row1_col0\" class=\"data row1 col0\" >2000.000000</td>\n",
              "      <td id=\"T_a9ed8_row1_col1\" class=\"data row1 col1\" >0.495000</td>\n",
              "      <td id=\"T_a9ed8_row1_col2\" class=\"data row1 col2\" >0.500100</td>\n",
              "      <td id=\"T_a9ed8_row1_col3\" class=\"data row1 col3\" >0.000000</td>\n",
              "      <td id=\"T_a9ed8_row1_col4\" class=\"data row1 col4\" >0.000000</td>\n",
              "      <td id=\"T_a9ed8_row1_col5\" class=\"data row1 col5\" >0.000000</td>\n",
              "      <td id=\"T_a9ed8_row1_col6\" class=\"data row1 col6\" >1.000000</td>\n",
              "      <td id=\"T_a9ed8_row1_col7\" class=\"data row1 col7\" >1.000000</td>\n",
              "    </tr>\n",
              "    <tr>\n",
              "      <th id=\"T_a9ed8_level0_row2\" class=\"row_heading level0 row2\" >clock_speed</th>\n",
              "      <td id=\"T_a9ed8_row2_col0\" class=\"data row2 col0\" >2000.000000</td>\n",
              "      <td id=\"T_a9ed8_row2_col1\" class=\"data row2 col1\" >1.522250</td>\n",
              "      <td id=\"T_a9ed8_row2_col2\" class=\"data row2 col2\" >0.816004</td>\n",
              "      <td id=\"T_a9ed8_row2_col3\" class=\"data row2 col3\" >0.500000</td>\n",
              "      <td id=\"T_a9ed8_row2_col4\" class=\"data row2 col4\" >0.700000</td>\n",
              "      <td id=\"T_a9ed8_row2_col5\" class=\"data row2 col5\" >1.500000</td>\n",
              "      <td id=\"T_a9ed8_row2_col6\" class=\"data row2 col6\" >2.200000</td>\n",
              "      <td id=\"T_a9ed8_row2_col7\" class=\"data row2 col7\" >3.000000</td>\n",
              "    </tr>\n",
              "    <tr>\n",
              "      <th id=\"T_a9ed8_level0_row3\" class=\"row_heading level0 row3\" >dual_sim</th>\n",
              "      <td id=\"T_a9ed8_row3_col0\" class=\"data row3 col0\" >2000.000000</td>\n",
              "      <td id=\"T_a9ed8_row3_col1\" class=\"data row3 col1\" >0.509500</td>\n",
              "      <td id=\"T_a9ed8_row3_col2\" class=\"data row3 col2\" >0.500035</td>\n",
              "      <td id=\"T_a9ed8_row3_col3\" class=\"data row3 col3\" >0.000000</td>\n",
              "      <td id=\"T_a9ed8_row3_col4\" class=\"data row3 col4\" >0.000000</td>\n",
              "      <td id=\"T_a9ed8_row3_col5\" class=\"data row3 col5\" >1.000000</td>\n",
              "      <td id=\"T_a9ed8_row3_col6\" class=\"data row3 col6\" >1.000000</td>\n",
              "      <td id=\"T_a9ed8_row3_col7\" class=\"data row3 col7\" >1.000000</td>\n",
              "    </tr>\n",
              "    <tr>\n",
              "      <th id=\"T_a9ed8_level0_row4\" class=\"row_heading level0 row4\" >fc</th>\n",
              "      <td id=\"T_a9ed8_row4_col0\" class=\"data row4 col0\" >2000.000000</td>\n",
              "      <td id=\"T_a9ed8_row4_col1\" class=\"data row4 col1\" >4.309500</td>\n",
              "      <td id=\"T_a9ed8_row4_col2\" class=\"data row4 col2\" >4.341444</td>\n",
              "      <td id=\"T_a9ed8_row4_col3\" class=\"data row4 col3\" >0.000000</td>\n",
              "      <td id=\"T_a9ed8_row4_col4\" class=\"data row4 col4\" >1.000000</td>\n",
              "      <td id=\"T_a9ed8_row4_col5\" class=\"data row4 col5\" >3.000000</td>\n",
              "      <td id=\"T_a9ed8_row4_col6\" class=\"data row4 col6\" >7.000000</td>\n",
              "      <td id=\"T_a9ed8_row4_col7\" class=\"data row4 col7\" >19.000000</td>\n",
              "    </tr>\n",
              "    <tr>\n",
              "      <th id=\"T_a9ed8_level0_row5\" class=\"row_heading level0 row5\" >four_g</th>\n",
              "      <td id=\"T_a9ed8_row5_col0\" class=\"data row5 col0\" >2000.000000</td>\n",
              "      <td id=\"T_a9ed8_row5_col1\" class=\"data row5 col1\" >0.521500</td>\n",
              "      <td id=\"T_a9ed8_row5_col2\" class=\"data row5 col2\" >0.499662</td>\n",
              "      <td id=\"T_a9ed8_row5_col3\" class=\"data row5 col3\" >0.000000</td>\n",
              "      <td id=\"T_a9ed8_row5_col4\" class=\"data row5 col4\" >0.000000</td>\n",
              "      <td id=\"T_a9ed8_row5_col5\" class=\"data row5 col5\" >1.000000</td>\n",
              "      <td id=\"T_a9ed8_row5_col6\" class=\"data row5 col6\" >1.000000</td>\n",
              "      <td id=\"T_a9ed8_row5_col7\" class=\"data row5 col7\" >1.000000</td>\n",
              "    </tr>\n",
              "    <tr>\n",
              "      <th id=\"T_a9ed8_level0_row6\" class=\"row_heading level0 row6\" >int_memory</th>\n",
              "      <td id=\"T_a9ed8_row6_col0\" class=\"data row6 col0\" >2000.000000</td>\n",
              "      <td id=\"T_a9ed8_row6_col1\" class=\"data row6 col1\" >32.046500</td>\n",
              "      <td id=\"T_a9ed8_row6_col2\" class=\"data row6 col2\" >18.145715</td>\n",
              "      <td id=\"T_a9ed8_row6_col3\" class=\"data row6 col3\" >2.000000</td>\n",
              "      <td id=\"T_a9ed8_row6_col4\" class=\"data row6 col4\" >16.000000</td>\n",
              "      <td id=\"T_a9ed8_row6_col5\" class=\"data row6 col5\" >32.000000</td>\n",
              "      <td id=\"T_a9ed8_row6_col6\" class=\"data row6 col6\" >48.000000</td>\n",
              "      <td id=\"T_a9ed8_row6_col7\" class=\"data row6 col7\" >64.000000</td>\n",
              "    </tr>\n",
              "    <tr>\n",
              "      <th id=\"T_a9ed8_level0_row7\" class=\"row_heading level0 row7\" >m_dep</th>\n",
              "      <td id=\"T_a9ed8_row7_col0\" class=\"data row7 col0\" >2000.000000</td>\n",
              "      <td id=\"T_a9ed8_row7_col1\" class=\"data row7 col1\" >0.501750</td>\n",
              "      <td id=\"T_a9ed8_row7_col2\" class=\"data row7 col2\" >0.288416</td>\n",
              "      <td id=\"T_a9ed8_row7_col3\" class=\"data row7 col3\" >0.100000</td>\n",
              "      <td id=\"T_a9ed8_row7_col4\" class=\"data row7 col4\" >0.200000</td>\n",
              "      <td id=\"T_a9ed8_row7_col5\" class=\"data row7 col5\" >0.500000</td>\n",
              "      <td id=\"T_a9ed8_row7_col6\" class=\"data row7 col6\" >0.800000</td>\n",
              "      <td id=\"T_a9ed8_row7_col7\" class=\"data row7 col7\" >1.000000</td>\n",
              "    </tr>\n",
              "    <tr>\n",
              "      <th id=\"T_a9ed8_level0_row8\" class=\"row_heading level0 row8\" >mobile_wt</th>\n",
              "      <td id=\"T_a9ed8_row8_col0\" class=\"data row8 col0\" >2000.000000</td>\n",
              "      <td id=\"T_a9ed8_row8_col1\" class=\"data row8 col1\" >140.249000</td>\n",
              "      <td id=\"T_a9ed8_row8_col2\" class=\"data row8 col2\" >35.399655</td>\n",
              "      <td id=\"T_a9ed8_row8_col3\" class=\"data row8 col3\" >80.000000</td>\n",
              "      <td id=\"T_a9ed8_row8_col4\" class=\"data row8 col4\" >109.000000</td>\n",
              "      <td id=\"T_a9ed8_row8_col5\" class=\"data row8 col5\" >141.000000</td>\n",
              "      <td id=\"T_a9ed8_row8_col6\" class=\"data row8 col6\" >170.000000</td>\n",
              "      <td id=\"T_a9ed8_row8_col7\" class=\"data row8 col7\" >200.000000</td>\n",
              "    </tr>\n",
              "    <tr>\n",
              "      <th id=\"T_a9ed8_level0_row9\" class=\"row_heading level0 row9\" >n_cores</th>\n",
              "      <td id=\"T_a9ed8_row9_col0\" class=\"data row9 col0\" >2000.000000</td>\n",
              "      <td id=\"T_a9ed8_row9_col1\" class=\"data row9 col1\" >4.520500</td>\n",
              "      <td id=\"T_a9ed8_row9_col2\" class=\"data row9 col2\" >2.287837</td>\n",
              "      <td id=\"T_a9ed8_row9_col3\" class=\"data row9 col3\" >1.000000</td>\n",
              "      <td id=\"T_a9ed8_row9_col4\" class=\"data row9 col4\" >3.000000</td>\n",
              "      <td id=\"T_a9ed8_row9_col5\" class=\"data row9 col5\" >4.000000</td>\n",
              "      <td id=\"T_a9ed8_row9_col6\" class=\"data row9 col6\" >7.000000</td>\n",
              "      <td id=\"T_a9ed8_row9_col7\" class=\"data row9 col7\" >8.000000</td>\n",
              "    </tr>\n",
              "    <tr>\n",
              "      <th id=\"T_a9ed8_level0_row10\" class=\"row_heading level0 row10\" >pc</th>\n",
              "      <td id=\"T_a9ed8_row10_col0\" class=\"data row10 col0\" >2000.000000</td>\n",
              "      <td id=\"T_a9ed8_row10_col1\" class=\"data row10 col1\" >9.916500</td>\n",
              "      <td id=\"T_a9ed8_row10_col2\" class=\"data row10 col2\" >6.064315</td>\n",
              "      <td id=\"T_a9ed8_row10_col3\" class=\"data row10 col3\" >0.000000</td>\n",
              "      <td id=\"T_a9ed8_row10_col4\" class=\"data row10 col4\" >5.000000</td>\n",
              "      <td id=\"T_a9ed8_row10_col5\" class=\"data row10 col5\" >10.000000</td>\n",
              "      <td id=\"T_a9ed8_row10_col6\" class=\"data row10 col6\" >15.000000</td>\n",
              "      <td id=\"T_a9ed8_row10_col7\" class=\"data row10 col7\" >20.000000</td>\n",
              "    </tr>\n",
              "    <tr>\n",
              "      <th id=\"T_a9ed8_level0_row11\" class=\"row_heading level0 row11\" >px_height</th>\n",
              "      <td id=\"T_a9ed8_row11_col0\" class=\"data row11 col0\" >2000.000000</td>\n",
              "      <td id=\"T_a9ed8_row11_col1\" class=\"data row11 col1\" >645.108000</td>\n",
              "      <td id=\"T_a9ed8_row11_col2\" class=\"data row11 col2\" >443.780811</td>\n",
              "      <td id=\"T_a9ed8_row11_col3\" class=\"data row11 col3\" >0.000000</td>\n",
              "      <td id=\"T_a9ed8_row11_col4\" class=\"data row11 col4\" >282.750000</td>\n",
              "      <td id=\"T_a9ed8_row11_col5\" class=\"data row11 col5\" >564.000000</td>\n",
              "      <td id=\"T_a9ed8_row11_col6\" class=\"data row11 col6\" >947.250000</td>\n",
              "      <td id=\"T_a9ed8_row11_col7\" class=\"data row11 col7\" >1960.000000</td>\n",
              "    </tr>\n",
              "    <tr>\n",
              "      <th id=\"T_a9ed8_level0_row12\" class=\"row_heading level0 row12\" >px_width</th>\n",
              "      <td id=\"T_a9ed8_row12_col0\" class=\"data row12 col0\" >2000.000000</td>\n",
              "      <td id=\"T_a9ed8_row12_col1\" class=\"data row12 col1\" >1251.515500</td>\n",
              "      <td id=\"T_a9ed8_row12_col2\" class=\"data row12 col2\" >432.199447</td>\n",
              "      <td id=\"T_a9ed8_row12_col3\" class=\"data row12 col3\" >500.000000</td>\n",
              "      <td id=\"T_a9ed8_row12_col4\" class=\"data row12 col4\" >874.750000</td>\n",
              "      <td id=\"T_a9ed8_row12_col5\" class=\"data row12 col5\" >1247.000000</td>\n",
              "      <td id=\"T_a9ed8_row12_col6\" class=\"data row12 col6\" >1633.000000</td>\n",
              "      <td id=\"T_a9ed8_row12_col7\" class=\"data row12 col7\" >1998.000000</td>\n",
              "    </tr>\n",
              "    <tr>\n",
              "      <th id=\"T_a9ed8_level0_row13\" class=\"row_heading level0 row13\" >ram</th>\n",
              "      <td id=\"T_a9ed8_row13_col0\" class=\"data row13 col0\" >2000.000000</td>\n",
              "      <td id=\"T_a9ed8_row13_col1\" class=\"data row13 col1\" >2124.213000</td>\n",
              "      <td id=\"T_a9ed8_row13_col2\" class=\"data row13 col2\" >1084.732044</td>\n",
              "      <td id=\"T_a9ed8_row13_col3\" class=\"data row13 col3\" >256.000000</td>\n",
              "      <td id=\"T_a9ed8_row13_col4\" class=\"data row13 col4\" >1207.500000</td>\n",
              "      <td id=\"T_a9ed8_row13_col5\" class=\"data row13 col5\" >2146.500000</td>\n",
              "      <td id=\"T_a9ed8_row13_col6\" class=\"data row13 col6\" >3064.500000</td>\n",
              "      <td id=\"T_a9ed8_row13_col7\" class=\"data row13 col7\" >3998.000000</td>\n",
              "    </tr>\n",
              "    <tr>\n",
              "      <th id=\"T_a9ed8_level0_row14\" class=\"row_heading level0 row14\" >sc_h</th>\n",
              "      <td id=\"T_a9ed8_row14_col0\" class=\"data row14 col0\" >2000.000000</td>\n",
              "      <td id=\"T_a9ed8_row14_col1\" class=\"data row14 col1\" >12.306500</td>\n",
              "      <td id=\"T_a9ed8_row14_col2\" class=\"data row14 col2\" >4.213245</td>\n",
              "      <td id=\"T_a9ed8_row14_col3\" class=\"data row14 col3\" >5.000000</td>\n",
              "      <td id=\"T_a9ed8_row14_col4\" class=\"data row14 col4\" >9.000000</td>\n",
              "      <td id=\"T_a9ed8_row14_col5\" class=\"data row14 col5\" >12.000000</td>\n",
              "      <td id=\"T_a9ed8_row14_col6\" class=\"data row14 col6\" >16.000000</td>\n",
              "      <td id=\"T_a9ed8_row14_col7\" class=\"data row14 col7\" >19.000000</td>\n",
              "    </tr>\n",
              "    <tr>\n",
              "      <th id=\"T_a9ed8_level0_row15\" class=\"row_heading level0 row15\" >sc_w</th>\n",
              "      <td id=\"T_a9ed8_row15_col0\" class=\"data row15 col0\" >2000.000000</td>\n",
              "      <td id=\"T_a9ed8_row15_col1\" class=\"data row15 col1\" >5.767000</td>\n",
              "      <td id=\"T_a9ed8_row15_col2\" class=\"data row15 col2\" >4.356398</td>\n",
              "      <td id=\"T_a9ed8_row15_col3\" class=\"data row15 col3\" >0.000000</td>\n",
              "      <td id=\"T_a9ed8_row15_col4\" class=\"data row15 col4\" >2.000000</td>\n",
              "      <td id=\"T_a9ed8_row15_col5\" class=\"data row15 col5\" >5.000000</td>\n",
              "      <td id=\"T_a9ed8_row15_col6\" class=\"data row15 col6\" >9.000000</td>\n",
              "      <td id=\"T_a9ed8_row15_col7\" class=\"data row15 col7\" >18.000000</td>\n",
              "    </tr>\n",
              "    <tr>\n",
              "      <th id=\"T_a9ed8_level0_row16\" class=\"row_heading level0 row16\" >talk_time</th>\n",
              "      <td id=\"T_a9ed8_row16_col0\" class=\"data row16 col0\" >2000.000000</td>\n",
              "      <td id=\"T_a9ed8_row16_col1\" class=\"data row16 col1\" >11.011000</td>\n",
              "      <td id=\"T_a9ed8_row16_col2\" class=\"data row16 col2\" >5.463955</td>\n",
              "      <td id=\"T_a9ed8_row16_col3\" class=\"data row16 col3\" >2.000000</td>\n",
              "      <td id=\"T_a9ed8_row16_col4\" class=\"data row16 col4\" >6.000000</td>\n",
              "      <td id=\"T_a9ed8_row16_col5\" class=\"data row16 col5\" >11.000000</td>\n",
              "      <td id=\"T_a9ed8_row16_col6\" class=\"data row16 col6\" >16.000000</td>\n",
              "      <td id=\"T_a9ed8_row16_col7\" class=\"data row16 col7\" >20.000000</td>\n",
              "    </tr>\n",
              "    <tr>\n",
              "      <th id=\"T_a9ed8_level0_row17\" class=\"row_heading level0 row17\" >three_g</th>\n",
              "      <td id=\"T_a9ed8_row17_col0\" class=\"data row17 col0\" >2000.000000</td>\n",
              "      <td id=\"T_a9ed8_row17_col1\" class=\"data row17 col1\" >0.761500</td>\n",
              "      <td id=\"T_a9ed8_row17_col2\" class=\"data row17 col2\" >0.426273</td>\n",
              "      <td id=\"T_a9ed8_row17_col3\" class=\"data row17 col3\" >0.000000</td>\n",
              "      <td id=\"T_a9ed8_row17_col4\" class=\"data row17 col4\" >1.000000</td>\n",
              "      <td id=\"T_a9ed8_row17_col5\" class=\"data row17 col5\" >1.000000</td>\n",
              "      <td id=\"T_a9ed8_row17_col6\" class=\"data row17 col6\" >1.000000</td>\n",
              "      <td id=\"T_a9ed8_row17_col7\" class=\"data row17 col7\" >1.000000</td>\n",
              "    </tr>\n",
              "    <tr>\n",
              "      <th id=\"T_a9ed8_level0_row18\" class=\"row_heading level0 row18\" >touch_screen</th>\n",
              "      <td id=\"T_a9ed8_row18_col0\" class=\"data row18 col0\" >2000.000000</td>\n",
              "      <td id=\"T_a9ed8_row18_col1\" class=\"data row18 col1\" >0.503000</td>\n",
              "      <td id=\"T_a9ed8_row18_col2\" class=\"data row18 col2\" >0.500116</td>\n",
              "      <td id=\"T_a9ed8_row18_col3\" class=\"data row18 col3\" >0.000000</td>\n",
              "      <td id=\"T_a9ed8_row18_col4\" class=\"data row18 col4\" >0.000000</td>\n",
              "      <td id=\"T_a9ed8_row18_col5\" class=\"data row18 col5\" >1.000000</td>\n",
              "      <td id=\"T_a9ed8_row18_col6\" class=\"data row18 col6\" >1.000000</td>\n",
              "      <td id=\"T_a9ed8_row18_col7\" class=\"data row18 col7\" >1.000000</td>\n",
              "    </tr>\n",
              "    <tr>\n",
              "      <th id=\"T_a9ed8_level0_row19\" class=\"row_heading level0 row19\" >wifi</th>\n",
              "      <td id=\"T_a9ed8_row19_col0\" class=\"data row19 col0\" >2000.000000</td>\n",
              "      <td id=\"T_a9ed8_row19_col1\" class=\"data row19 col1\" >0.507000</td>\n",
              "      <td id=\"T_a9ed8_row19_col2\" class=\"data row19 col2\" >0.500076</td>\n",
              "      <td id=\"T_a9ed8_row19_col3\" class=\"data row19 col3\" >0.000000</td>\n",
              "      <td id=\"T_a9ed8_row19_col4\" class=\"data row19 col4\" >0.000000</td>\n",
              "      <td id=\"T_a9ed8_row19_col5\" class=\"data row19 col5\" >1.000000</td>\n",
              "      <td id=\"T_a9ed8_row19_col6\" class=\"data row19 col6\" >1.000000</td>\n",
              "      <td id=\"T_a9ed8_row19_col7\" class=\"data row19 col7\" >1.000000</td>\n",
              "    </tr>\n",
              "    <tr>\n",
              "      <th id=\"T_a9ed8_level0_row20\" class=\"row_heading level0 row20\" >price_range</th>\n",
              "      <td id=\"T_a9ed8_row20_col0\" class=\"data row20 col0\" >2000.000000</td>\n",
              "      <td id=\"T_a9ed8_row20_col1\" class=\"data row20 col1\" >1.500000</td>\n",
              "      <td id=\"T_a9ed8_row20_col2\" class=\"data row20 col2\" >1.118314</td>\n",
              "      <td id=\"T_a9ed8_row20_col3\" class=\"data row20 col3\" >0.000000</td>\n",
              "      <td id=\"T_a9ed8_row20_col4\" class=\"data row20 col4\" >0.750000</td>\n",
              "      <td id=\"T_a9ed8_row20_col5\" class=\"data row20 col5\" >1.500000</td>\n",
              "      <td id=\"T_a9ed8_row20_col6\" class=\"data row20 col6\" >2.250000</td>\n",
              "      <td id=\"T_a9ed8_row20_col7\" class=\"data row20 col7\" >3.000000</td>\n",
              "    </tr>\n",
              "  </tbody>\n",
              "</table>\n"
            ]
          },
          "metadata": {},
          "execution_count": 5
        }
      ],
      "source": [
        "mydata.describe().T.style.bar(subset=['mean'])\\\n",
        "                            .background_gradient(subset=['std'])\\\n",
        "                            .background_gradient(subset=['50%'])\\\n",
        "                            .background_gradient(subset=['max'])"
      ]
    },
    {
      "cell_type": "markdown",
      "id": "ef129b41",
      "metadata": {
        "id": "ef129b41"
      },
      "source": [
        "## PREPROCESSING"
      ]
    },
    {
      "cell_type": "code",
      "execution_count": null,
      "id": "ab59bac6",
      "metadata": {
        "colab": {
          "base_uri": "https://localhost:8080/",
          "height": 488
        },
        "id": "ab59bac6",
        "outputId": "0c31c3f2-9340-4fa5-ceec-4329dea9f8ee"
      },
      "outputs": [
        {
          "output_type": "execute_result",
          "data": {
            "text/plain": [
              "      battery_power  clock_speed  fc  int_memory  m_dep  mobile_wt  n_cores  \\\n",
              "0               842          2.2   1           7    0.6        188        2   \n",
              "1              1021          0.5   0          53    0.7        136        3   \n",
              "2               563          0.5   2          41    0.9        145        5   \n",
              "3               615          2.5   0          10    0.8        131        6   \n",
              "4              1821          1.2  13          44    0.6        141        2   \n",
              "...             ...          ...  ..         ...    ...        ...      ...   \n",
              "1995            794          0.5   0           2    0.8        106        6   \n",
              "1996           1965          2.6   0          39    0.2        187        4   \n",
              "1997           1911          0.9   1          36    0.7        108        8   \n",
              "1998           1512          0.9   4          46    0.1        145        5   \n",
              "1999            510          2.0   5          45    0.9        168        6   \n",
              "\n",
              "      pc  px_height  px_width   ram  sc_h  sc_w  talk_time  price_range  \n",
              "0      2         20       756  2549     9     7         19            1  \n",
              "1      6        905      1988  2631    17     3          7            2  \n",
              "2      6       1263      1716  2603    11     2          9            2  \n",
              "3      9       1216      1786  2769    16     8         11            2  \n",
              "4     14       1208      1212  1411     8     2         15            1  \n",
              "...   ..        ...       ...   ...   ...   ...        ...          ...  \n",
              "1995  14       1222      1890   668    13     4         19            0  \n",
              "1996   3        915      1965  2032    11    10         16            2  \n",
              "1997   3        868      1632  3057     9     1          5            3  \n",
              "1998   5        336       670   869    18    10         19            0  \n",
              "1999  16        483       754  3919    19     4          2            3  \n",
              "\n",
              "[2000 rows x 15 columns]"
            ],
            "text/html": [
              "\n",
              "  <div id=\"df-f7092955-6262-4103-b497-2a3cb41fc6e1\">\n",
              "    <div class=\"colab-df-container\">\n",
              "      <div>\n",
              "<style scoped>\n",
              "    .dataframe tbody tr th:only-of-type {\n",
              "        vertical-align: middle;\n",
              "    }\n",
              "\n",
              "    .dataframe tbody tr th {\n",
              "        vertical-align: top;\n",
              "    }\n",
              "\n",
              "    .dataframe thead th {\n",
              "        text-align: right;\n",
              "    }\n",
              "</style>\n",
              "<table border=\"1\" class=\"dataframe\">\n",
              "  <thead>\n",
              "    <tr style=\"text-align: right;\">\n",
              "      <th></th>\n",
              "      <th>battery_power</th>\n",
              "      <th>clock_speed</th>\n",
              "      <th>fc</th>\n",
              "      <th>int_memory</th>\n",
              "      <th>m_dep</th>\n",
              "      <th>mobile_wt</th>\n",
              "      <th>n_cores</th>\n",
              "      <th>pc</th>\n",
              "      <th>px_height</th>\n",
              "      <th>px_width</th>\n",
              "      <th>ram</th>\n",
              "      <th>sc_h</th>\n",
              "      <th>sc_w</th>\n",
              "      <th>talk_time</th>\n",
              "      <th>price_range</th>\n",
              "    </tr>\n",
              "  </thead>\n",
              "  <tbody>\n",
              "    <tr>\n",
              "      <th>0</th>\n",
              "      <td>842</td>\n",
              "      <td>2.2</td>\n",
              "      <td>1</td>\n",
              "      <td>7</td>\n",
              "      <td>0.6</td>\n",
              "      <td>188</td>\n",
              "      <td>2</td>\n",
              "      <td>2</td>\n",
              "      <td>20</td>\n",
              "      <td>756</td>\n",
              "      <td>2549</td>\n",
              "      <td>9</td>\n",
              "      <td>7</td>\n",
              "      <td>19</td>\n",
              "      <td>1</td>\n",
              "    </tr>\n",
              "    <tr>\n",
              "      <th>1</th>\n",
              "      <td>1021</td>\n",
              "      <td>0.5</td>\n",
              "      <td>0</td>\n",
              "      <td>53</td>\n",
              "      <td>0.7</td>\n",
              "      <td>136</td>\n",
              "      <td>3</td>\n",
              "      <td>6</td>\n",
              "      <td>905</td>\n",
              "      <td>1988</td>\n",
              "      <td>2631</td>\n",
              "      <td>17</td>\n",
              "      <td>3</td>\n",
              "      <td>7</td>\n",
              "      <td>2</td>\n",
              "    </tr>\n",
              "    <tr>\n",
              "      <th>2</th>\n",
              "      <td>563</td>\n",
              "      <td>0.5</td>\n",
              "      <td>2</td>\n",
              "      <td>41</td>\n",
              "      <td>0.9</td>\n",
              "      <td>145</td>\n",
              "      <td>5</td>\n",
              "      <td>6</td>\n",
              "      <td>1263</td>\n",
              "      <td>1716</td>\n",
              "      <td>2603</td>\n",
              "      <td>11</td>\n",
              "      <td>2</td>\n",
              "      <td>9</td>\n",
              "      <td>2</td>\n",
              "    </tr>\n",
              "    <tr>\n",
              "      <th>3</th>\n",
              "      <td>615</td>\n",
              "      <td>2.5</td>\n",
              "      <td>0</td>\n",
              "      <td>10</td>\n",
              "      <td>0.8</td>\n",
              "      <td>131</td>\n",
              "      <td>6</td>\n",
              "      <td>9</td>\n",
              "      <td>1216</td>\n",
              "      <td>1786</td>\n",
              "      <td>2769</td>\n",
              "      <td>16</td>\n",
              "      <td>8</td>\n",
              "      <td>11</td>\n",
              "      <td>2</td>\n",
              "    </tr>\n",
              "    <tr>\n",
              "      <th>4</th>\n",
              "      <td>1821</td>\n",
              "      <td>1.2</td>\n",
              "      <td>13</td>\n",
              "      <td>44</td>\n",
              "      <td>0.6</td>\n",
              "      <td>141</td>\n",
              "      <td>2</td>\n",
              "      <td>14</td>\n",
              "      <td>1208</td>\n",
              "      <td>1212</td>\n",
              "      <td>1411</td>\n",
              "      <td>8</td>\n",
              "      <td>2</td>\n",
              "      <td>15</td>\n",
              "      <td>1</td>\n",
              "    </tr>\n",
              "    <tr>\n",
              "      <th>...</th>\n",
              "      <td>...</td>\n",
              "      <td>...</td>\n",
              "      <td>...</td>\n",
              "      <td>...</td>\n",
              "      <td>...</td>\n",
              "      <td>...</td>\n",
              "      <td>...</td>\n",
              "      <td>...</td>\n",
              "      <td>...</td>\n",
              "      <td>...</td>\n",
              "      <td>...</td>\n",
              "      <td>...</td>\n",
              "      <td>...</td>\n",
              "      <td>...</td>\n",
              "      <td>...</td>\n",
              "    </tr>\n",
              "    <tr>\n",
              "      <th>1995</th>\n",
              "      <td>794</td>\n",
              "      <td>0.5</td>\n",
              "      <td>0</td>\n",
              "      <td>2</td>\n",
              "      <td>0.8</td>\n",
              "      <td>106</td>\n",
              "      <td>6</td>\n",
              "      <td>14</td>\n",
              "      <td>1222</td>\n",
              "      <td>1890</td>\n",
              "      <td>668</td>\n",
              "      <td>13</td>\n",
              "      <td>4</td>\n",
              "      <td>19</td>\n",
              "      <td>0</td>\n",
              "    </tr>\n",
              "    <tr>\n",
              "      <th>1996</th>\n",
              "      <td>1965</td>\n",
              "      <td>2.6</td>\n",
              "      <td>0</td>\n",
              "      <td>39</td>\n",
              "      <td>0.2</td>\n",
              "      <td>187</td>\n",
              "      <td>4</td>\n",
              "      <td>3</td>\n",
              "      <td>915</td>\n",
              "      <td>1965</td>\n",
              "      <td>2032</td>\n",
              "      <td>11</td>\n",
              "      <td>10</td>\n",
              "      <td>16</td>\n",
              "      <td>2</td>\n",
              "    </tr>\n",
              "    <tr>\n",
              "      <th>1997</th>\n",
              "      <td>1911</td>\n",
              "      <td>0.9</td>\n",
              "      <td>1</td>\n",
              "      <td>36</td>\n",
              "      <td>0.7</td>\n",
              "      <td>108</td>\n",
              "      <td>8</td>\n",
              "      <td>3</td>\n",
              "      <td>868</td>\n",
              "      <td>1632</td>\n",
              "      <td>3057</td>\n",
              "      <td>9</td>\n",
              "      <td>1</td>\n",
              "      <td>5</td>\n",
              "      <td>3</td>\n",
              "    </tr>\n",
              "    <tr>\n",
              "      <th>1998</th>\n",
              "      <td>1512</td>\n",
              "      <td>0.9</td>\n",
              "      <td>4</td>\n",
              "      <td>46</td>\n",
              "      <td>0.1</td>\n",
              "      <td>145</td>\n",
              "      <td>5</td>\n",
              "      <td>5</td>\n",
              "      <td>336</td>\n",
              "      <td>670</td>\n",
              "      <td>869</td>\n",
              "      <td>18</td>\n",
              "      <td>10</td>\n",
              "      <td>19</td>\n",
              "      <td>0</td>\n",
              "    </tr>\n",
              "    <tr>\n",
              "      <th>1999</th>\n",
              "      <td>510</td>\n",
              "      <td>2.0</td>\n",
              "      <td>5</td>\n",
              "      <td>45</td>\n",
              "      <td>0.9</td>\n",
              "      <td>168</td>\n",
              "      <td>6</td>\n",
              "      <td>16</td>\n",
              "      <td>483</td>\n",
              "      <td>754</td>\n",
              "      <td>3919</td>\n",
              "      <td>19</td>\n",
              "      <td>4</td>\n",
              "      <td>2</td>\n",
              "      <td>3</td>\n",
              "    </tr>\n",
              "  </tbody>\n",
              "</table>\n",
              "<p>2000 rows × 15 columns</p>\n",
              "</div>\n",
              "      <button class=\"colab-df-convert\" onclick=\"convertToInteractive('df-f7092955-6262-4103-b497-2a3cb41fc6e1')\"\n",
              "              title=\"Convert this dataframe to an interactive table.\"\n",
              "              style=\"display:none;\">\n",
              "        \n",
              "  <svg xmlns=\"http://www.w3.org/2000/svg\" height=\"24px\"viewBox=\"0 0 24 24\"\n",
              "       width=\"24px\">\n",
              "    <path d=\"M0 0h24v24H0V0z\" fill=\"none\"/>\n",
              "    <path d=\"M18.56 5.44l.94 2.06.94-2.06 2.06-.94-2.06-.94-.94-2.06-.94 2.06-2.06.94zm-11 1L8.5 8.5l.94-2.06 2.06-.94-2.06-.94L8.5 2.5l-.94 2.06-2.06.94zm10 10l.94 2.06.94-2.06 2.06-.94-2.06-.94-.94-2.06-.94 2.06-2.06.94z\"/><path d=\"M17.41 7.96l-1.37-1.37c-.4-.4-.92-.59-1.43-.59-.52 0-1.04.2-1.43.59L10.3 9.45l-7.72 7.72c-.78.78-.78 2.05 0 2.83L4 21.41c.39.39.9.59 1.41.59.51 0 1.02-.2 1.41-.59l7.78-7.78 2.81-2.81c.8-.78.8-2.07 0-2.86zM5.41 20L4 18.59l7.72-7.72 1.47 1.35L5.41 20z\"/>\n",
              "  </svg>\n",
              "      </button>\n",
              "      \n",
              "  <style>\n",
              "    .colab-df-container {\n",
              "      display:flex;\n",
              "      flex-wrap:wrap;\n",
              "      gap: 12px;\n",
              "    }\n",
              "\n",
              "    .colab-df-convert {\n",
              "      background-color: #E8F0FE;\n",
              "      border: none;\n",
              "      border-radius: 50%;\n",
              "      cursor: pointer;\n",
              "      display: none;\n",
              "      fill: #1967D2;\n",
              "      height: 32px;\n",
              "      padding: 0 0 0 0;\n",
              "      width: 32px;\n",
              "    }\n",
              "\n",
              "    .colab-df-convert:hover {\n",
              "      background-color: #E2EBFA;\n",
              "      box-shadow: 0px 1px 2px rgba(60, 64, 67, 0.3), 0px 1px 3px 1px rgba(60, 64, 67, 0.15);\n",
              "      fill: #174EA6;\n",
              "    }\n",
              "\n",
              "    [theme=dark] .colab-df-convert {\n",
              "      background-color: #3B4455;\n",
              "      fill: #D2E3FC;\n",
              "    }\n",
              "\n",
              "    [theme=dark] .colab-df-convert:hover {\n",
              "      background-color: #434B5C;\n",
              "      box-shadow: 0px 1px 3px 1px rgba(0, 0, 0, 0.15);\n",
              "      filter: drop-shadow(0px 1px 2px rgba(0, 0, 0, 0.3));\n",
              "      fill: #FFFFFF;\n",
              "    }\n",
              "  </style>\n",
              "\n",
              "      <script>\n",
              "        const buttonEl =\n",
              "          document.querySelector('#df-f7092955-6262-4103-b497-2a3cb41fc6e1 button.colab-df-convert');\n",
              "        buttonEl.style.display =\n",
              "          google.colab.kernel.accessAllowed ? 'block' : 'none';\n",
              "\n",
              "        async function convertToInteractive(key) {\n",
              "          const element = document.querySelector('#df-f7092955-6262-4103-b497-2a3cb41fc6e1');\n",
              "          const dataTable =\n",
              "            await google.colab.kernel.invokeFunction('convertToInteractive',\n",
              "                                                     [key], {});\n",
              "          if (!dataTable) return;\n",
              "\n",
              "          const docLinkHtml = 'Like what you see? Visit the ' +\n",
              "            '<a target=\"_blank\" href=https://colab.research.google.com/notebooks/data_table.ipynb>data table notebook</a>'\n",
              "            + ' to learn more about interactive tables.';\n",
              "          element.innerHTML = '';\n",
              "          dataTable['output_type'] = 'display_data';\n",
              "          await google.colab.output.renderOutput(dataTable, element);\n",
              "          const docLink = document.createElement('div');\n",
              "          docLink.innerHTML = docLinkHtml;\n",
              "          element.appendChild(docLink);\n",
              "        }\n",
              "      </script>\n",
              "    </div>\n",
              "  </div>\n",
              "  "
            ]
          },
          "metadata": {},
          "execution_count": 6
        }
      ],
      "source": [
        "mydata = mydata.drop(columns = ['blue', 'dual_sim', 'four_g', 'three_g', 'wifi', 'touch_screen'])\n",
        "mydata"
      ]
    },
    {
      "cell_type": "code",
      "execution_count": null,
      "id": "df8c3726",
      "metadata": {
        "scrolled": true,
        "colab": {
          "base_uri": "https://localhost:8080/"
        },
        "id": "df8c3726",
        "outputId": "e151165a-c0a5-4d1b-e48a-b1722e0e71d7"
      },
      "outputs": [
        {
          "output_type": "execute_result",
          "data": {
            "text/plain": [
              "battery_power    0\n",
              "clock_speed      0\n",
              "fc               0\n",
              "int_memory       0\n",
              "m_dep            0\n",
              "mobile_wt        0\n",
              "n_cores          0\n",
              "pc               0\n",
              "px_height        0\n",
              "px_width         0\n",
              "ram              0\n",
              "sc_h             0\n",
              "sc_w             0\n",
              "talk_time        0\n",
              "price_range      0\n",
              "dtype: int64"
            ]
          },
          "metadata": {},
          "execution_count": 7
        }
      ],
      "source": [
        "mydata.isnull().sum()"
      ]
    },
    {
      "cell_type": "code",
      "execution_count": null,
      "id": "54140453",
      "metadata": {
        "id": "54140453"
      },
      "outputs": [],
      "source": [
        "#plt.figure(figsize=(16,16))\n",
        "#for i, col in enumerate(mydata._get_numeric_data()):\n",
        "    #plt.subplot(5,5,i+1)\n",
        "    #sns.boxplot(mydata[col])\n",
        "    #plt.tight_layout()"
      ]
    },
    {
      "cell_type": "code",
      "execution_count": null,
      "id": "23b6bcc2",
      "metadata": {
        "scrolled": true,
        "colab": {
          "base_uri": "https://localhost:8080/",
          "height": 374
        },
        "id": "23b6bcc2",
        "outputId": "5fd5e81b-0c51-4990-9a23-f64b40680e7e"
      },
      "outputs": [
        {
          "output_type": "execute_result",
          "data": {
            "text/plain": [
              "{'boxes': [<matplotlib.lines.Line2D at 0x7f952f1e2990>],\n",
              " 'caps': [<matplotlib.lines.Line2D at 0x7f952f159090>,\n",
              "  <matplotlib.lines.Line2D at 0x7f952f1595d0>],\n",
              " 'fliers': [<matplotlib.lines.Line2D at 0x7f952f1d9dd0>],\n",
              " 'means': [],\n",
              " 'medians': [<matplotlib.lines.Line2D at 0x7f952f159b50>],\n",
              " 'whiskers': [<matplotlib.lines.Line2D at 0x7f952f1e2f50>,\n",
              "  <matplotlib.lines.Line2D at 0x7f952f5d1890>]}"
            ]
          },
          "metadata": {},
          "execution_count": 9
        },
        {
          "output_type": "display_data",
          "data": {
            "text/plain": [
              "<Figure size 432x288 with 1 Axes>"
            ],
            "image/png": "[encoded data removed]"
          },
          "metadata": {
            "needs_background": "light"
          }
        }
      ],
      "source": [
        "# cek outlier untuk variabel 'px_height'\n",
        "plt.boxplot(mydata['px_height'])"
      ]
    },
    {
      "cell_type": "code",
      "execution_count": null,
      "id": "728c5e75",
      "metadata": {
        "scrolled": true,
        "colab": {
          "base_uri": "https://localhost:8080/",
          "height": 375
        },
        "id": "728c5e75",
        "outputId": "7cae2c85-91c9-497b-d3a0-a6025d72a282"
      },
      "outputs": [
        {
          "output_type": "execute_result",
          "data": {
            "text/plain": [
              "{'boxes': [<matplotlib.lines.Line2D at 0x7f952eca9810>],\n",
              " 'caps': [<matplotlib.lines.Line2D at 0x7f952ecae890>,\n",
              "  <matplotlib.lines.Line2D at 0x7f952ecaedd0>],\n",
              " 'fliers': [<matplotlib.lines.Line2D at 0x7f952ecb58d0>],\n",
              " 'means': [],\n",
              " 'medians': [<matplotlib.lines.Line2D at 0x7f952ecb5390>],\n",
              " 'whiskers': [<matplotlib.lines.Line2D at 0x7f952eca9ed0>,\n",
              "  <matplotlib.lines.Line2D at 0x7f952ecae350>]}"
            ]
          },
          "metadata": {},
          "execution_count": 10
        },
        {
          "output_type": "display_data",
          "data": {
            "text/plain": [
              "<Figure size 432x288 with 1 Axes>"
            ],
            "image/png": "[encoded data removed]"
          },
          "metadata": {
            "needs_background": "light"
          }
        }
      ],
      "source": [
        "# cek outlier untuk variabel 'fc'\n",
        "plt.boxplot(mydata['fc'])"
      ]
    },
    {
      "cell_type": "code",
      "execution_count": null,
      "id": "11ba0965",
      "metadata": {
        "scrolled": true,
        "colab": {
          "base_uri": "https://localhost:8080/",
          "height": 488
        },
        "id": "11ba0965",
        "outputId": "825a0148-6e63-441d-d848-7257ad02a5a1"
      },
      "outputs": [
        {
          "output_type": "execute_result",
          "data": {
            "text/plain": [
              "      battery_power  clock_speed  int_memory  m_dep  mobile_wt  n_cores  pc  \\\n",
              "0               842          2.2           7    0.6        188        2   2   \n",
              "1              1021          0.5          53    0.7        136        3   6   \n",
              "2               563          0.5          41    0.9        145        5   6   \n",
              "3               615          2.5          10    0.8        131        6   9   \n",
              "4              1821          1.2          44    0.6        141        2  14   \n",
              "...             ...          ...         ...    ...        ...      ...  ..   \n",
              "1995            794          0.5           2    0.8        106        6  14   \n",
              "1996           1965          2.6          39    0.2        187        4   3   \n",
              "1997           1911          0.9          36    0.7        108        8   3   \n",
              "1998           1512          0.9          46    0.1        145        5   5   \n",
              "1999            510          2.0          45    0.9        168        6  16   \n",
              "\n",
              "      px_width   ram  sc_h  sc_w  talk_time  price_range  \n",
              "0          756  2549     9     7         19            1  \n",
              "1         1988  2631    17     3          7            2  \n",
              "2         1716  2603    11     2          9            2  \n",
              "3         1786  2769    16     8         11            2  \n",
              "4         1212  1411     8     2         15            1  \n",
              "...        ...   ...   ...   ...        ...          ...  \n",
              "1995      1890   668    13     4         19            0  \n",
              "1996      1965  2032    11    10         16            2  \n",
              "1997      1632  3057     9     1          5            3  \n",
              "1998       670   869    18    10         19            0  \n",
              "1999       754  3919    19     4          2            3  \n",
              "\n",
              "[2000 rows x 13 columns]"
            ],
            "text/html": [
              "\n",
              "  <div id=\"df-5830a810-7ba7-4693-b0f0-42c15a24dc9e\">\n",
              "    <div class=\"colab-df-container\">\n",
              "      <div>\n",
              "<style scoped>\n",
              "    .dataframe tbody tr th:only-of-type {\n",
              "        vertical-align: middle;\n",
              "    }\n",
              "\n",
              "    .dataframe tbody tr th {\n",
              "        vertical-align: top;\n",
              "    }\n",
              "\n",
              "    .dataframe thead th {\n",
              "        text-align: right;\n",
              "    }\n",
              "</style>\n",
              "<table border=\"1\" class=\"dataframe\">\n",
              "  <thead>\n",
              "    <tr style=\"text-align: right;\">\n",
              "      <th></th>\n",
              "      <th>battery_power</th>\n",
              "      <th>clock_speed</th>\n",
              "      <th>int_memory</th>\n",
              "      <th>m_dep</th>\n",
              "      <th>mobile_wt</th>\n",
              "      <th>n_cores</th>\n",
              "      <th>pc</th>\n",
              "      <th>px_width</th>\n",
              "      <th>ram</th>\n",
              "      <th>sc_h</th>\n",
              "      <th>sc_w</th>\n",
              "      <th>talk_time</th>\n",
              "      <th>price_range</th>\n",
              "    </tr>\n",
              "  </thead>\n",
              "  <tbody>\n",
              "    <tr>\n",
              "      <th>0</th>\n",
              "      <td>842</td>\n",
              "      <td>2.2</td>\n",
              "      <td>7</td>\n",
              "      <td>0.6</td>\n",
              "      <td>188</td>\n",
              "      <td>2</td>\n",
              "      <td>2</td>\n",
              "      <td>756</td>\n",
              "      <td>2549</td>\n",
              "      <td>9</td>\n",
              "      <td>7</td>\n",
              "      <td>19</td>\n",
              "      <td>1</td>\n",
              "    </tr>\n",
              "    <tr>\n",
              "      <th>1</th>\n",
              "      <td>1021</td>\n",
              "      <td>0.5</td>\n",
              "      <td>53</td>\n",
              "      <td>0.7</td>\n",
              "      <td>136</td>\n",
              "      <td>3</td>\n",
              "      <td>6</td>\n",
              "      <td>1988</td>\n",
              "      <td>2631</td>\n",
              "      <td>17</td>\n",
              "      <td>3</td>\n",
              "      <td>7</td>\n",
              "      <td>2</td>\n",
              "    </tr>\n",
              "    <tr>\n",
              "      <th>2</th>\n",
              "      <td>563</td>\n",
              "      <td>0.5</td>\n",
              "      <td>41</td>\n",
              "      <td>0.9</td>\n",
              "      <td>145</td>\n",
              "      <td>5</td>\n",
              "      <td>6</td>\n",
              "      <td>1716</td>\n",
              "      <td>2603</td>\n",
              "      <td>11</td>\n",
              "      <td>2</td>\n",
              "      <td>9</td>\n",
              "      <td>2</td>\n",
              "    </tr>\n",
              "    <tr>\n",
              "      <th>3</th>\n",
              "      <td>615</td>\n",
              "      <td>2.5</td>\n",
              "      <td>10</td>\n",
              "      <td>0.8</td>\n",
              "      <td>131</td>\n",
              "      <td>6</td>\n",
              "      <td>9</td>\n",
              "      <td>1786</td>\n",
              "      <td>2769</td>\n",
              "      <td>16</td>\n",
              "      <td>8</td>\n",
              "      <td>11</td>\n",
              "      <td>2</td>\n",
              "    </tr>\n",
              "    <tr>\n",
              "      <th>4</th>\n",
              "      <td>1821</td>\n",
              "      <td>1.2</td>\n",
              "      <td>44</td>\n",
              "      <td>0.6</td>\n",
              "      <td>141</td>\n",
              "      <td>2</td>\n",
              "      <td>14</td>\n",
              "      <td>1212</td>\n",
              "      <td>1411</td>\n",
              "      <td>8</td>\n",
              "      <td>2</td>\n",
              "      <td>15</td>\n",
              "      <td>1</td>\n",
              "    </tr>\n",
              "    <tr>\n",
              "      <th>...</th>\n",
              "      <td>...</td>\n",
              "      <td>...</td>\n",
              "      <td>...</td>\n",
              "      <td>...</td>\n",
              "      <td>...</td>\n",
              "      <td>...</td>\n",
              "      <td>...</td>\n",
              "      <td>...</td>\n",
              "      <td>...</td>\n",
              "      <td>...</td>\n",
              "      <td>...</td>\n",
              "      <td>...</td>\n",
              "      <td>...</td>\n",
              "    </tr>\n",
              "    <tr>\n",
              "      <th>1995</th>\n",
              "      <td>794</td>\n",
              "      <td>0.5</td>\n",
              "      <td>2</td>\n",
              "      <td>0.8</td>\n",
              "      <td>106</td>\n",
              "      <td>6</td>\n",
              "      <td>14</td>\n",
              "      <td>1890</td>\n",
              "      <td>668</td>\n",
              "      <td>13</td>\n",
              "      <td>4</td>\n",
              "      <td>19</td>\n",
              "      <td>0</td>\n",
              "    </tr>\n",
              "    <tr>\n",
              "      <th>1996</th>\n",
              "      <td>1965</td>\n",
              "      <td>2.6</td>\n",
              "      <td>39</td>\n",
              "      <td>0.2</td>\n",
              "      <td>187</td>\n",
              "      <td>4</td>\n",
              "      <td>3</td>\n",
              "      <td>1965</td>\n",
              "      <td>2032</td>\n",
              "      <td>11</td>\n",
              "      <td>10</td>\n",
              "      <td>16</td>\n",
              "      <td>2</td>\n",
              "    </tr>\n",
              "    <tr>\n",
              "      <th>1997</th>\n",
              "      <td>1911</td>\n",
              "      <td>0.9</td>\n",
              "      <td>36</td>\n",
              "      <td>0.7</td>\n",
              "      <td>108</td>\n",
              "      <td>8</td>\n",
              "      <td>3</td>\n",
              "      <td>1632</td>\n",
              "      <td>3057</td>\n",
              "      <td>9</td>\n",
              "      <td>1</td>\n",
              "      <td>5</td>\n",
              "      <td>3</td>\n",
              "    </tr>\n",
              "    <tr>\n",
              "      <th>1998</th>\n",
              "      <td>1512</td>\n",
              "      <td>0.9</td>\n",
              "      <td>46</td>\n",
              "      <td>0.1</td>\n",
              "      <td>145</td>\n",
              "      <td>5</td>\n",
              "      <td>5</td>\n",
              "      <td>670</td>\n",
              "      <td>869</td>\n",
              "      <td>18</td>\n",
              "      <td>10</td>\n",
              "      <td>19</td>\n",
              "      <td>0</td>\n",
              "    </tr>\n",
              "    <tr>\n",
              "      <th>1999</th>\n",
              "      <td>510</td>\n",
              "      <td>2.0</td>\n",
              "      <td>45</td>\n",
              "      <td>0.9</td>\n",
              "      <td>168</td>\n",
              "      <td>6</td>\n",
              "      <td>16</td>\n",
              "      <td>754</td>\n",
              "      <td>3919</td>\n",
              "      <td>19</td>\n",
              "      <td>4</td>\n",
              "      <td>2</td>\n",
              "      <td>3</td>\n",
              "    </tr>\n",
              "  </tbody>\n",
              "</table>\n",
              "<p>2000 rows × 13 columns</p>\n",
              "</div>\n",
              "      <button class=\"colab-df-convert\" onclick=\"convertToInteractive('df-5830a810-7ba7-4693-b0f0-42c15a24dc9e')\"\n",
              "              title=\"Convert this dataframe to an interactive table.\"\n",
              "              style=\"display:none;\">\n",
              "        \n",
              "  <svg xmlns=\"http://www.w3.org/2000/svg\" height=\"24px\"viewBox=\"0 0 24 24\"\n",
              "       width=\"24px\">\n",
              "    <path d=\"M0 0h24v24H0V0z\" fill=\"none\"/>\n",
              "    <path d=\"M18.56 5.44l.94 2.06.94-2.06 2.06-.94-2.06-.94-.94-2.06-.94 2.06-2.06.94zm-11 1L8.5 8.5l.94-2.06 2.06-.94-2.06-.94L8.5 2.5l-.94 2.06-2.06.94zm10 10l.94 2.06.94-2.06 2.06-.94-2.06-.94-.94-2.06-.94 2.06-2.06.94z\"/><path d=\"M17.41 7.96l-1.37-1.37c-.4-.4-.92-.59-1.43-.59-.52 0-1.04.2-1.43.59L10.3 9.45l-7.72 7.72c-.78.78-.78 2.05 0 2.83L4 21.41c.39.39.9.59 1.41.59.51 0 1.02-.2 1.41-.59l7.78-7.78 2.81-2.81c.8-.78.8-2.07 0-2.86zM5.41 20L4 18.59l7.72-7.72 1.47 1.35L5.41 20z\"/>\n",
              "  </svg>\n",
              "      </button>\n",
              "      \n",
              "  <style>\n",
              "    .colab-df-container {\n",
              "      display:flex;\n",
              "      flex-wrap:wrap;\n",
              "      gap: 12px;\n",
              "    }\n",
              "\n",
              "    .colab-df-convert {\n",
              "      background-color: #E8F0FE;\n",
              "      border: none;\n",
              "      border-radius: 50%;\n",
              "      cursor: pointer;\n",
              "      display: none;\n",
              "      fill: #1967D2;\n",
              "      height: 32px;\n",
              "      padding: 0 0 0 0;\n",
              "      width: 32px;\n",
              "    }\n",
              "\n",
              "    .colab-df-convert:hover {\n",
              "      background-color: #E2EBFA;\n",
              "      box-shadow: 0px 1px 2px rgba(60, 64, 67, 0.3), 0px 1px 3px 1px rgba(60, 64, 67, 0.15);\n",
              "      fill: #174EA6;\n",
              "    }\n",
              "\n",
              "    [theme=dark] .colab-df-convert {\n",
              "      background-color: #3B4455;\n",
              "      fill: #D2E3FC;\n",
              "    }\n",
              "\n",
              "    [theme=dark] .colab-df-convert:hover {\n",
              "      background-color: #434B5C;\n",
              "      box-shadow: 0px 1px 3px 1px rgba(0, 0, 0, 0.15);\n",
              "      filter: drop-shadow(0px 1px 2px rgba(0, 0, 0, 0.3));\n",
              "      fill: #FFFFFF;\n",
              "    }\n",
              "  </style>\n",
              "\n",
              "      <script>\n",
              "        const buttonEl =\n",
              "          document.querySelector('#df-5830a810-7ba7-4693-b0f0-42c15a24dc9e button.colab-df-convert');\n",
              "        buttonEl.style.display =\n",
              "          google.colab.kernel.accessAllowed ? 'block' : 'none';\n",
              "\n",
              "        async function convertToInteractive(key) {\n",
              "          const element = document.querySelector('#df-5830a810-7ba7-4693-b0f0-42c15a24dc9e');\n",
              "          const dataTable =\n",
              "            await google.colab.kernel.invokeFunction('convertToInteractive',\n",
              "                                                     [key], {});\n",
              "          if (!dataTable) return;\n",
              "\n",
              "          const docLinkHtml = 'Like what you see? Visit the ' +\n",
              "            '<a target=\"_blank\" href=https://colab.research.google.com/notebooks/data_table.ipynb>data table notebook</a>'\n",
              "            + ' to learn more about interactive tables.';\n",
              "          element.innerHTML = '';\n",
              "          dataTable['output_type'] = 'display_data';\n",
              "          await google.colab.output.renderOutput(dataTable, element);\n",
              "          const docLink = document.createElement('div');\n",
              "          docLink.innerHTML = docLinkHtml;\n",
              "          element.appendChild(docLink);\n",
              "        }\n",
              "      </script>\n",
              "    </div>\n",
              "  </div>\n",
              "  "
            ]
          },
          "metadata": {},
          "execution_count": 11
        }
      ],
      "source": [
        "# mendrop variabel yang memiliki outlier yaitu variabel 'fc' dan variabel 'px_height'\n",
        "mydata = mydata.drop(columns = ['px_height', 'fc'])\n",
        "mydata"
      ]
    },
    {
      "cell_type": "code",
      "execution_count": null,
      "id": "b355939a",
      "metadata": {
        "scrolled": true,
        "colab": {
          "base_uri": "https://localhost:8080/",
          "height": 264
        },
        "id": "b355939a",
        "outputId": "8b251c30-fed7-49ad-c705-3056fbded785"
      },
      "outputs": [
        {
          "output_type": "display_data",
          "data": {
            "text/plain": [
              "<Figure size 432x288 with 1 Axes>"
            ],
            "image/png": "[encoded data removed]"
          },
          "metadata": {}
        }
      ],
      "source": [
        "price_category = mydata['price_range'].value_counts()\n",
        "\n",
        "price_category.plot.pie(autopct='%1.1f%%',shadow=False)\n",
        "plt.title('Pie Chart')\n",
        "plt.show()"
      ]
    },
    {
      "cell_type": "markdown",
      "id": "d3daa9e7",
      "metadata": {
        "id": "d3daa9e7"
      },
      "source": [
        "## FEATURE SELECTION"
      ]
    },
    {
      "cell_type": "code",
      "execution_count": null,
      "id": "836709ef",
      "metadata": {
        "id": "836709ef"
      },
      "outputs": [],
      "source": [
        "from sklearn.feature_selection import SelectKBest\n",
        "from sklearn.feature_selection import chi2"
      ]
    },
    {
      "cell_type": "code",
      "execution_count": null,
      "id": "f5fd9cc1",
      "metadata": {
        "id": "f5fd9cc1"
      },
      "outputs": [],
      "source": [
        "X = mydata.iloc[:,0:12] #independent variables\n",
        "Y = mydata.iloc[:,-1]  #dependent variable(price range)"
      ]
    },
    {
      "cell_type": "code",
      "execution_count": null,
      "id": "e8ca0f3b",
      "metadata": {
        "id": "e8ca0f3b"
      },
      "outputs": [],
      "source": [
        "#apply SelectKBest class to extract top 10 best features\n",
        "bestfeatures = SelectKBest(score_func=chi2, k=10)\n",
        "fit = bestfeatures.fit(X,Y)\n",
        "dfscores = pd.DataFrame (fit.scores_)\n",
        "dfcolumns = pd.DataFrame(X.columns)"
      ]
    },
    {
      "cell_type": "code",
      "execution_count": null,
      "id": "c2e021f0",
      "metadata": {
        "colab": {
          "base_uri": "https://localhost:8080/"
        },
        "id": "c2e021f0",
        "outputId": "407d0268-9a06-4280-c579-b0dd63efbfdb"
      },
      "outputs": [
        {
          "output_type": "stream",
          "name": "stdout",
          "text": [
            "            Specs          Score\n",
            "8             ram  931267.519053\n",
            "0   battery_power   14129.866576\n",
            "7        px_width    9810.586750\n",
            "4       mobile_wt      95.972863\n",
            "2      int_memory      89.839124\n",
            "10           sc_w      16.480319\n",
            "11      talk_time      13.236400\n",
            "9            sc_h       9.614878\n",
            "6              pc       9.186054\n",
            "5         n_cores       9.097556\n"
          ]
        }
      ],
      "source": [
        "#concat two dataframes for better visualization\n",
        "featureScores = pd.concat([dfcolumns,dfscores],axis=1)\n",
        "featureScores.columns = ['Specs','Score']  #naming the dataframe columns\n",
        "print(featureScores.nlargest(10,'Score'))  #print 10 best features"
      ]
    },
    {
      "cell_type": "code",
      "execution_count": null,
      "id": "ec4c486c",
      "metadata": {
        "id": "ec4c486c"
      },
      "outputs": [],
      "source": [
        "#feature importance\n",
        "from sklearn.ensemble import ExtraTreesClassifier\n",
        "import matplotlib.pyplot as plt"
      ]
    },
    {
      "cell_type": "code",
      "execution_count": null,
      "id": "313788fb",
      "metadata": {
        "colab": {
          "base_uri": "https://localhost:8080/"
        },
        "id": "313788fb",
        "outputId": "d51c10c5-f5c4-4fa8-8d89-4b660e6160d0"
      },
      "outputs": [
        {
          "output_type": "stream",
          "name": "stdout",
          "text": [
            "[0.07817282 0.04168407 0.04397802 0.0402926  0.04524066 0.04044457\n",
            " 0.04250486 0.06863171 0.47158142 0.04240723 0.04198608 0.04307596]\n"
          ]
        }
      ],
      "source": [
        "X = mydata.iloc[:,0:12] #independent variables\n",
        "Y = mydata.iloc[:,-1] #dependent variables (price range)\n",
        "model = ExtraTreesClassifier()\n",
        "model.fit(X,Y)\n",
        "print(model.feature_importances_) #use inbuilt class feature_importances of tree based classifiers"
      ]
    },
    {
      "cell_type": "code",
      "execution_count": null,
      "id": "ab786dd8",
      "metadata": {
        "colab": {
          "base_uri": "https://localhost:8080/",
          "height": 193
        },
        "id": "ab786dd8",
        "outputId": "d4835bb4-7368-4acb-a6fc-3f125d5d0ce2"
      },
      "outputs": [
        {
          "output_type": "display_data",
          "data": {
            "text/plain": [
              "<Figure size 432x288 with 1 Axes>"
            ],
            "image/png": "[encoded data removed]"
          },
          "metadata": {
            "needs_background": "light"
          }
        }
      ],
      "source": [
        "#plot graph of feature importances for better visualization\n",
        "feat_importances = pd.Series(model.feature_importances_, index=X.columns)\n",
        "feat_importances.nlargest(10).plot(kind='barh')\n",
        "plt.show()"
      ]
    },
    {
      "cell_type": "code",
      "execution_count": null,
      "id": "7feaafd6",
      "metadata": {
        "scrolled": true,
        "colab": {
          "base_uri": "https://localhost:8080/",
          "height": 335
        },
        "id": "7feaafd6",
        "outputId": "d463a604-236c-4bb2-ea23-46aeb9422f95"
      },
      "outputs": [
        {
          "output_type": "display_data",
          "data": {
            "text/plain": [
              "<Figure size 864x864 with 2 Axes>"
            ],
            "image/png": "[encoded data removed]"
          },
          "metadata": {
            "needs_background": "light"
          }
        }
      ],
      "source": [
        "# correlation matrix\n",
        "X = mydata.iloc[:,0:12]  #independent variables\n",
        "y = mydata.iloc[:,-1]    #dependent variables (price range)\n",
        "#get correlations of each features in dataset\n",
        "corrmat = mydata.corr()\n",
        "top_corr_features = corrmat.index\n",
        "plt.figure(figsize=(12,12))\n",
        "#plot heat map\n",
        "g=sns.heatmap(mydata[top_corr_features].corr(),annot=True,cmap=\"RdYlGn\")"
      ]
    },
    {
      "cell_type": "markdown",
      "id": "780f1b14",
      "metadata": {
        "id": "780f1b14"
      },
      "source": [
        "## DECISION TREE "
      ]
    },
    {
      "cell_type": "code",
      "execution_count": null,
      "id": "f3803fe5",
      "metadata": {
        "id": "f3803fe5"
      },
      "outputs": [],
      "source": [
        "import pandas as pd\n",
        "from sklearn.tree import DecisionTreeClassifier\n",
        "from sklearn.model_selection import train_test_split\n",
        "from sklearn import metrics\n",
        "# Definisi Y\n",
        "y = mydata['price_range']\n",
        "\n",
        "# Definisi X\n",
        "X = mydata.drop(['price_range'], axis=1)\n",
        "                 \n",
        "# Split Data\n",
        "X_train, X_test, y_train, y_test = train_test_split(X, y, test_size = 0.3, random_state = 100)"
      ]
    },
    {
      "cell_type": "code",
      "execution_count": null,
      "id": "14ff4f5d",
      "metadata": {
        "id": "14ff4f5d"
      },
      "outputs": [],
      "source": [
        "#BUAT MODEL\n",
        "# Create Decision Tree classifer object\n",
        "clf = DecisionTreeClassifier()\n",
        "\n",
        "# Train Decision Tree Classifer\n",
        "clf = clf.fit(X_train,y_train)\n",
        "\n",
        "#Predict the response for test dataset\n",
        "y_pred = clf.predict(X_test)"
      ]
    },
    {
      "cell_type": "code",
      "source": [
        "y_test.shape"
      ],
      "metadata": {
        "colab": {
          "base_uri": "https://localhost:8080/"
        },
        "id": "mVRCc81m3hmh",
        "outputId": "973ce2a7-9ac0-43fc-8a39-03912f1753bf"
      },
      "id": "mVRCc81m3hmh",
      "execution_count": null,
      "outputs": [
        {
          "output_type": "execute_result",
          "data": {
            "text/plain": [
              "(600,)"
            ]
          },
          "metadata": {},
          "execution_count": 23
        }
      ]
    },
    {
      "cell_type": "code",
      "source": [
        "y_pred.shape"
      ],
      "metadata": {
        "colab": {
          "base_uri": "https://localhost:8080/"
        },
        "id": "7YN_J7lE3kW8",
        "outputId": "25765696-973b-478c-f788-802125afeda0"
      },
      "id": "7YN_J7lE3kW8",
      "execution_count": null,
      "outputs": [
        {
          "output_type": "execute_result",
          "data": {
            "text/plain": [
              "(600,)"
            ]
          },
          "metadata": {},
          "execution_count": 24
        }
      ]
    },
    {
      "cell_type": "code",
      "execution_count": null,
      "id": "b388e3a0",
      "metadata": {
        "colab": {
          "base_uri": "https://localhost:8080/"
        },
        "id": "b388e3a0",
        "outputId": "582a811c-11a0-4a63-9c9e-aa3a09e738ce"
      },
      "outputs": [
        {
          "output_type": "stream",
          "name": "stdout",
          "text": [
            "Accuracy: 0.8033333333333333\n"
          ]
        }
      ],
      "source": [
        "score = clf.score(X_test, y_pred)\n",
        "\n",
        "# EVALUASI MODEL\n",
        "\n",
        "print(\"Accuracy:\",metrics.accuracy_score(y_test, y_pred))"
      ]
    },
    {
      "cell_type": "markdown",
      "source": [
        "**K Fold Decission Tree**"
      ],
      "metadata": {
        "id": "TMl2GF-8QBYn"
      },
      "id": "TMl2GF-8QBYn"
    },
    {
      "cell_type": "code",
      "execution_count": null,
      "id": "bd10db5f",
      "metadata": {
        "id": "bd10db5f",
        "colab": {
          "base_uri": "https://localhost:8080/"
        },
        "outputId": "4a7279db-1125-4b05-bb8b-f9ab5e1bbb36"
      },
      "outputs": [
        {
          "output_type": "stream",
          "name": "stdout",
          "text": [
            "Accuracy: 0.836 (0.021)\n"
          ]
        }
      ],
      "source": [
        "from sklearn.model_selection import cross_val_score\n",
        "from numpy import mean\n",
        "from numpy import std\n",
        "\n",
        "# Prepare the cross-validation procedure\n",
        "cv1 = KFold(n_splits=10, random_state=100, shuffle=True)\n",
        "\n",
        "# Train Decision Tree Classifier\n",
        "score = clf.fit(X_train, y_train)\n",
        "\n",
        "# Predict The Response for Test Dataset\n",
        "y_pred = clf.predict(X_test)\n",
        "\n",
        "# Evaluate The Model\n",
        "scores = cross_val_score(clf, X, y, scoring='accuracy', cv=cv1, n_jobs=-1)\n",
        "\n",
        "# Report The Performance\n",
        "print('Accuracy: %.3f (%.3f)' % (mean(scores), std(scores)))"
      ]
    },
    {
      "cell_type": "markdown",
      "source": [
        "**Repeated Holdout Decision Tree**"
      ],
      "metadata": {
        "id": "7V6rUNf9Qd0X"
      },
      "id": "7V6rUNf9Qd0X"
    },
    {
      "cell_type": "code",
      "execution_count": null,
      "id": "9d507dc7",
      "metadata": {
        "colab": {
          "base_uri": "https://localhost:8080/"
        },
        "id": "9d507dc7",
        "outputId": "11c8a9ec-5155-4fbb-9cb6-4263f0707d18"
      },
      "outputs": [
        {
          "output_type": "stream",
          "name": "stdout",
          "text": [
            "Accuracy: 0.832 (0.023)\n"
          ]
        }
      ],
      "source": [
        "from sklearn.model_selection import ShuffleSplit\n",
        "\n",
        "rs2 = ShuffleSplit(n_splits=10, random_state=100)\n",
        "\n",
        "# Evaluate The Repeated Holdout\n",
        "scores = cross_val_score(clf, X, y, scoring='accuracy', cv=rs2, n_jobs=-1)\n",
        "\n",
        "# Report The Performance\n",
        "print('Accuracy: %.3f (%.3f)' % (mean(scores), std(scores)))"
      ]
    },
    {
      "cell_type": "code",
      "execution_count": null,
      "id": "2a231373",
      "metadata": {
        "scrolled": false,
        "colab": {
          "base_uri": "https://localhost:8080/",
          "height": 216
        },
        "id": "2a231373",
        "outputId": "adbdabd6-6c67-4c66-d4cb-54d09a22cbde"
      },
      "outputs": [
        {
          "output_type": "display_data",
          "data": {
            "text/plain": [
              "<Figure size 1080x720 with 1 Axes>"
            ],
            "image/png": "[encoded data removed]"
          },
          "metadata": {
            "needs_background": "light"
          }
        }
      ],
      "source": [
        "# Visualization of Decision Tree\n",
        "import matplotlib.pyplot as plt, seaborn as sns\n",
        "from sklearn import tree\n",
        "fig = plt.figure(figsize=(15,10))\n",
        "_ = tree.plot_tree(clf,\n",
        "                   feature_names=X.columns,\n",
        "                   class_names=['Low Cost', 'Medium Cost', 'High Cost', 'Very High Cost'],\n",
        "                   filled=True)"
      ]
    },
    {
      "cell_type": "markdown",
      "source": [
        "**ROC AUC, Specificity, Sensitivity K FOLD Decision Tree**"
      ],
      "metadata": {
        "id": "MHrAL6P80vfs"
      },
      "id": "MHrAL6P80vfs"
    },
    {
      "cell_type": "code",
      "source": [
        "from sklearn.model_selection import cross_val_predict\n",
        "\n",
        "y_pred_clf_kfold = cross_val_predict(clf, X, y, cv=cv1)\n",
        "print(y_pred_clf_kfold.shape)\n",
        "\n",
        "from sklearn.metrics import confusion_matrix\n",
        "tn, fp, fn, tp = confusion_matrix(y, y_pred_clf_kfold)\n",
        "\n",
        "from sklearn.metrics import accuracy_score, recall_score, roc_auc_score\n",
        "\n",
        "\n",
        "# y_pred_clf_kfold = y_pred_clf_kfold.reshape(600,)\n",
        "\n",
        "#use model to predict probability that given y value is 1\n",
        "print(y_pred_clf_kfold.shape)\n",
        "print(y_test.shape)\n",
        "\n",
        "# y_pred_proba_cld = y_pred_proba_cld.reshape(600,1)\n",
        "# y_test = y_test.reshape((600,1))\n",
        "print(y_pred_clf_kfold.shape)\n",
        "\n",
        "\n",
        "sensitivity_clf = round(recall_score(y, y_pred_clf_kfold, average='weighted'),2)\n",
        "spesifisity_clf = np.round(tn / (tn+fp), 2)\n",
        "roc_auc_clf = roc_auc_score(y_test, clf.predict_proba(X_test), multi_class=\"ovr\")\n",
        "print(\"ROC AUC clf: \", roc_auc_clf,\"Spesificity clf: \", spesifisity_clf, \"Sensitivity: \", sensitivity_clf)"
      ],
      "metadata": {
        "colab": {
          "base_uri": "https://localhost:8080/"
        },
        "id": "8wq1CEaY0wgg",
        "outputId": "78252bfb-62fb-4265-dd0a-65652edb23c7"
      },
      "id": "8wq1CEaY0wgg",
      "execution_count": null,
      "outputs": [
        {
          "output_type": "stream",
          "name": "stdout",
          "text": [
            "(2000,)\n",
            "(2000,)\n",
            "(600,)\n",
            "(2000,)\n",
            "ROC AUC clf:  0.8702712095749172 Spesificity clf:  [0.9  0.13 0.    nan] Sensitivity:  0.83\n"
          ]
        },
        {
          "output_type": "stream",
          "name": "stderr",
          "text": [
            "/usr/local/lib/python3.7/dist-packages/ipykernel_launcher.py:24: RuntimeWarning: invalid value encountered in true_divide\n"
          ]
        }
      ]
    },
    {
      "cell_type": "markdown",
      "source": [
        "**ROC AUC, Specificity, Sensitivity Repeated Holdout Decison Tree**"
      ],
      "metadata": {
        "id": "xPqjtL_keRY5"
      },
      "id": "xPqjtL_keRY5"
    },
    {
      "cell_type": "code",
      "source": [
        "sp = ShuffleSplit(n_splits=10, random_state=100)\n",
        "\n",
        "for train_rh2, test_rh2 in sp.split(X):\n",
        "  X_train_rh2, X_test_rh2 = X.iloc[train_rh2], X.iloc[test_rh2]\n",
        "  y_train_rh2, y_test_rh2 = y.iloc[train_rh2], y.iloc[test_rh2]\n",
        "\n",
        "# Train Random Forest Classifier\n",
        "# score = clf.fit(X_train_rh, y_train_rh)\n",
        "\n",
        "# Predict The Response for Test Dataset\n",
        "y_pred_rh2 = clf.predict(X_test_rh2)\n",
        "\n",
        "\n",
        "from sklearn.metrics import confusion_matrix\n",
        "tn2, fp2, fn2, tp2 = confusion_matrix(y_test_rh2, y_pred_rh2)\n",
        "\n",
        "from sklearn.metrics import accuracy_score, recall_score, roc_auc_score\n",
        "\n",
        "\n",
        "# y_pred_clf_kfold = y_pred_clf_kfold.reshape(600,)\n",
        "\n",
        "#use model to predict probability that given y value is 1\n",
        "print(y_pred_rh2)\n",
        "print(y_test_rh2.shape)\n",
        "\n",
        "# y_pred_proba_clf = y_pred_proba_clf.reshape(600,1)\n",
        "# y_test = y_test.reshape((600,1))\n",
        "print(y_pred_rh2.shape)\n",
        "\n",
        "\n",
        "sensitivity_clf_rh = round(recall_score(y_test_rh2, y_pred_rh2, average='weighted'),2)\n",
        "spesifisity_clf_rh = np.round(tn2 / (tn2+fp2), 2)\n",
        "roc_auc_clf_rh = roc_auc_score(y_test_rh2, clf.predict_proba(X_test_rh2), multi_class=\"ovr\")\n",
        "print(\"ROC AUC clf: \", roc_auc_clf_rh,\"Spesificity clf: \", spesifisity_clf_rh, \"Sensitivity: \", sensitivity_clf_rh)\n",
        "\n",
        "\n"
      ],
      "metadata": {
        "colab": {
          "base_uri": "https://localhost:8080/"
        },
        "id": "1kO9Exf9eSV1",
        "outputId": "a27d5703-0e96-4364-871d-cbf8c260c007"
      },
      "id": "1kO9Exf9eSV1",
      "execution_count": null,
      "outputs": [
        {
          "output_type": "stream",
          "name": "stdout",
          "text": [
            "[0 2 1 2 1 0 2 1 0 2 0 0 0 1 3 0 2 2 2 3 0 0 3 2 2 3 0 0 1 1 3 0 2 2 3 3 2\n",
            " 0 0 0 2 2 0 2 3 3 0 2 2 3 1 3 3 2 1 1 2 0 3 2 3 1 0 0 1 1 2 3 1 1 3 3 2 3\n",
            " 1 1 1 0 1 1 1 0 2 1 3 0 1 0 0 2 2 1 0 3 0 0 3 0 1 3 3 1 0 2 0 0 3 3 2 1 0\n",
            " 1 3 3 3 1 3 1 0 0 2 0 1 2 2 1 1 3 1 0 0 1 3 0 3 1 3 0 2 0 3 1 1 2 0 1 2 3\n",
            " 3 2 1 3 0 2 1 2 3 0 0 0 1 1 0 2 2 1 1 3 2 1 2 2 2 0 3 1 2 1 0 3 0 0 2 0 1\n",
            " 2 2 0 0 3 0 1 0 1 2 2 2 2 1 1]\n",
            "(200,)\n",
            "(200,)\n",
            "ROC AUC clf:  0.9665321365512107 Spesificity clf:  [0.95 0.02  nan  nan] Sensitivity:  0.95\n"
          ]
        },
        {
          "output_type": "stream",
          "name": "stderr",
          "text": [
            "/usr/local/lib/python3.7/dist-packages/ipykernel_launcher.py:32: RuntimeWarning: invalid value encountered in true_divide\n"
          ]
        }
      ]
    },
    {
      "cell_type": "markdown",
      "id": "36dc9fb8",
      "metadata": {
        "id": "36dc9fb8"
      },
      "source": [
        "## NAIVE BAYES"
      ]
    },
    {
      "cell_type": "code",
      "execution_count": null,
      "id": "0ffc48b7",
      "metadata": {
        "id": "0ffc48b7"
      },
      "outputs": [],
      "source": [
        "# Definisi Y\n",
        "y = mydata['price_range']\n",
        "\n",
        "# Definisi X\n",
        "X = mydata.drop(['price_range'], axis=1)\n",
        "                 \n",
        "# Split Data\n",
        "X_train, X_test, y_train, y_test = train_test_split(X, y, test_size = 0.3, random_state = 100)"
      ]
    },
    {
      "cell_type": "code",
      "execution_count": null,
      "id": "2c42505e",
      "metadata": {
        "id": "2c42505e"
      },
      "outputs": [],
      "source": [
        "#BUAT MODEL\n",
        "# Create Decision Tree classifer object\n",
        "clf1 = GaussianNB()\n",
        "\n",
        "# Train Decision Tree Classifer\n",
        "clf1 = clf1.fit(X_train,y_train)\n",
        "\n",
        "#Predict the response for test dataset\n",
        "y_pred = clf1.predict(X_test)"
      ]
    },
    {
      "cell_type": "code",
      "execution_count": null,
      "id": "8e2a2503",
      "metadata": {
        "colab": {
          "base_uri": "https://localhost:8080/"
        },
        "id": "8e2a2503",
        "outputId": "03b3fea3-5603-4187-9e18-cedec60fa81a"
      },
      "outputs": [
        {
          "output_type": "stream",
          "name": "stdout",
          "text": [
            "Accuracy: 0.7816666666666666\n"
          ]
        }
      ],
      "source": [
        "score = clf1.score(X_test, y_pred)\n",
        "\n",
        "# EVALUASI MODEL\n",
        "print(\"Accuracy:\",metrics.accuracy_score(y_test, y_pred))"
      ]
    },
    {
      "cell_type": "markdown",
      "source": [
        "**K Fold Naive Bayes**"
      ],
      "metadata": {
        "id": "WD9I8rtaOV-t"
      },
      "id": "WD9I8rtaOV-t"
    },
    {
      "cell_type": "code",
      "execution_count": null,
      "id": "4c7bf635",
      "metadata": {
        "id": "4c7bf635",
        "colab": {
          "base_uri": "https://localhost:8080/"
        },
        "outputId": "cfa91797-7651-4a40-aad8-67628ce097e4"
      },
      "outputs": [
        {
          "output_type": "stream",
          "name": "stdout",
          "text": [
            "Accuracy: 0.791 (0.026)\n"
          ]
        }
      ],
      "source": [
        "from sklearn.model_selection import cross_val_score\n",
        "from numpy import mean\n",
        "from numpy import std\n",
        "\n",
        "# Prepare the cross-validation procedure\n",
        "cv2 = KFold(n_splits=10, random_state=100, shuffle=True)\n",
        "\n",
        "# Train Naive Bayes Classifier\n",
        "score = clf1.fit(X_train, y_train)\n",
        "\n",
        "# Predict The Response for Test Dataset\n",
        "y_pred = clf1.predict(X_test)\n",
        "\n",
        "# Evaluate The Model\n",
        "scores = cross_val_score(clf1, X, y, scoring='accuracy', cv=cv2, n_jobs=-1)\n",
        "\n",
        "# Report The Performance\n",
        "print('Accuracy: %.3f (%.3f)' % (mean(scores), std(scores)))"
      ]
    },
    {
      "cell_type": "markdown",
      "source": [
        "**Repeated Holdout Naive Bayes**"
      ],
      "metadata": {
        "id": "wFW6-oPJOq6X"
      },
      "id": "wFW6-oPJOq6X"
    },
    {
      "cell_type": "code",
      "execution_count": null,
      "id": "55fb48c5",
      "metadata": {
        "colab": {
          "base_uri": "https://localhost:8080/"
        },
        "id": "55fb48c5",
        "outputId": "c5aeac85-5f7b-4b84-da89-f667d2547664"
      },
      "outputs": [
        {
          "output_type": "stream",
          "name": "stdout",
          "text": [
            "Accuracy: 0.795 (0.027)\n"
          ]
        }
      ],
      "source": [
        "from sklearn.model_selection import ShuffleSplit\n",
        "\n",
        "rs1 = ShuffleSplit(n_splits=10, random_state=100)\n",
        "\n",
        "# Evaluate The Repeated Holdout\n",
        "scores = cross_val_score(clf1, X, y, scoring='accuracy', cv=rs1, n_jobs=-1)\n",
        "\n",
        "# Report The Performance\n",
        "print('Accuracy: %.3f (%.3f)' % (mean(scores), std(scores)))"
      ]
    },
    {
      "cell_type": "markdown",
      "source": [
        "**ROC AUC, Specificity, Sensitivity K FOLD Naive Bayes**"
      ],
      "metadata": {
        "id": "od871ib10bhH"
      },
      "id": "od871ib10bhH"
    },
    {
      "cell_type": "code",
      "source": [
        "from sklearn.model_selection import cross_val_predict\n",
        "\n",
        "y_pred_clf1_kfold = cross_val_predict(clf1, X, y, cv=cv2)\n",
        "print(y_pred_clf1_kfold.shape)\n",
        "\n",
        "from sklearn.metrics import confusion_matrix\n",
        "tn, fp, fn, tp = confusion_matrix(y, y_pred_clf1_kfold)\n",
        "\n",
        "from sklearn.metrics import accuracy_score, recall_score, roc_auc_score\n",
        "\n",
        "\n",
        "# y_pred_clf1_kfold = y_pred_clf1_kfold.reshape(600,)\n",
        "\n",
        "#use model to predict probability that given y value is 1\n",
        "print(y_pred_clf1_kfold.shape)\n",
        "print(y_test.shape)\n",
        "\n",
        "# y_pred_clf1_kfold = y_pred_clf1_kfold.reshape(600,1)\n",
        "# y_test = y_test.reshape((600,1))\n",
        "print(y_pred_clf1_kfold.shape)\n",
        "\n",
        "\n",
        "sensitivity_clf1 = round(recall_score(y, y_pred_clf1_kfold, average='weighted'),2)\n",
        "spesifisity_clf1 = np.round(tn / (tn+fp), 2)\n",
        "roc_auc_clf1 = roc_auc_score(y_test, clf1.predict_proba(X_test), multi_class=\"ovr\")\n",
        "print(\"ROC AUC clf1: \", roc_auc_clf1,\"Spesificity clf1: \", spesifisity_clf1, \"Sensitivity: \", sensitivity_clf1)"
      ],
      "metadata": {
        "colab": {
          "base_uri": "https://localhost:8080/"
        },
        "id": "OsEMqQ670ggc",
        "outputId": "309d07c6-0c2f-4498-9175-7ff035b3dbd6"
      },
      "id": "OsEMqQ670ggc",
      "execution_count": null,
      "outputs": [
        {
          "output_type": "stream",
          "name": "stdout",
          "text": [
            "(2000,)\n",
            "(2000,)\n",
            "(600,)\n",
            "(2000,)\n",
            "ROC AUC clf1:  0.9428264623447167 Spesificity clf1:  [0.88 0.14 0.    nan] Sensitivity:  0.79\n"
          ]
        },
        {
          "output_type": "stream",
          "name": "stderr",
          "text": [
            "/usr/local/lib/python3.7/dist-packages/ipykernel_launcher.py:24: RuntimeWarning: invalid value encountered in true_divide\n"
          ]
        }
      ]
    },
    {
      "cell_type": "markdown",
      "source": [
        "**ROC AUC, Specificity, Sensitivity Repeated Holdout Naive Bayes**"
      ],
      "metadata": {
        "id": "IjZKQmEdfVOw"
      },
      "id": "IjZKQmEdfVOw"
    },
    {
      "cell_type": "code",
      "source": [
        "sp = ShuffleSplit(n_splits=10, random_state=100)\n",
        "\n",
        "for train_rh1, test_rh1 in sp.split(X):\n",
        "  X_train_rh1, X_test_rh1 = X.iloc[train_rh1], X.iloc[test_rh1]\n",
        "  y_train_rh1, y_test_rh1 = y.iloc[train_rh1], y.iloc[test_rh1]\n",
        "\n",
        "# Train Random Forest Classifier\n",
        "# score = clf1.fit(X_train_rh, y_train_rh)\n",
        "\n",
        "# Predict The Response for Test Dataset\n",
        "y_pred_rh1 = clf1.predict(X_test_rh1)\n",
        "\n",
        "\n",
        "from sklearn.metrics import confusion_matrix\n",
        "tn2, fp2, fn2, tp2 = confusion_matrix(y_test_rh1, y_pred_rh1)\n",
        "\n",
        "from sklearn.metrics import accuracy_score, recall_score, roc_auc_score\n",
        "\n",
        "\n",
        "# y_pred_clf1_kfold = y_pred_clf1_kfold.reshape(600,)\n",
        "\n",
        "#use model to predict probability that given y value is 1\n",
        "print(y_pred_rh1)\n",
        "print(y_test_rh1.shape)\n",
        "\n",
        "# y_pred_proba_clf1 = y_pred_proba_clf1.reshape(600,1)\n",
        "# y_test = y_test.reshape((600,1))\n",
        "print(y_pred_rh1.shape)\n",
        "\n",
        "\n",
        "sensitivity_clf1_rh = round(recall_score(y_test_rh1, y_pred_rh1, average='weighted'),2)\n",
        "spesifisity_clf1_rh = np.round(tn2 / (tn2+fp2), 2)\n",
        "roc_auc_clf1_rh = roc_auc_score(y_test_rh1, clf1.predict_proba(X_test_rh1), multi_class=\"ovr\")\n",
        "print(\"ROC AUC clf1: \", roc_auc_clf1_rh,\"Spesificity clf1: \", spesifisity_clf1_rh, \"Sensitivity: \", sensitivity_clf1_rh)\n",
        "\n"
      ],
      "metadata": {
        "colab": {
          "base_uri": "https://localhost:8080/"
        },
        "id": "xqqM3D4rfV4-",
        "outputId": "2d024c65-49ec-4836-d5ba-75b9f8f765e1"
      },
      "id": "xqqM3D4rfV4-",
      "execution_count": null,
      "outputs": [
        {
          "output_type": "stream",
          "name": "stdout",
          "text": [
            "[0 2 1 2 1 0 2 0 0 2 0 0 1 1 3 0 1 2 2 3 0 0 3 2 1 3 0 0 2 1 3 0 1 2 3 3 2\n",
            " 0 0 0 2 2 0 2 3 3 0 2 3 3 1 2 3 2 0 1 1 0 3 2 3 1 1 1 1 1 2 3 0 2 3 3 2 3\n",
            " 1 1 1 0 2 1 0 0 2 0 3 0 1 0 0 3 2 1 1 2 0 0 3 0 1 3 3 1 0 1 0 0 3 3 2 2 0\n",
            " 1 3 3 3 1 3 1 0 0 2 1 1 2 2 1 1 2 1 0 1 1 3 0 3 1 3 0 2 1 3 1 2 2 0 2 2 2\n",
            " 3 1 2 3 0 3 1 2 3 0 1 0 1 1 0 2 2 1 1 3 2 1 2 2 2 0 3 1 2 2 0 3 0 0 3 0 1\n",
            " 2 2 1 0 3 0 2 0 1 2 2 1 3 2 1]\n",
            "(200,)\n",
            "(200,)\n",
            "ROC AUC clf1:  0.9691021843868861 Spesificity clf1:  [0.92 0.13 0.    nan] Sensitivity:  0.83\n"
          ]
        },
        {
          "output_type": "stream",
          "name": "stderr",
          "text": [
            "/usr/local/lib/python3.7/dist-packages/ipykernel_launcher.py:32: RuntimeWarning: invalid value encountered in true_divide\n"
          ]
        }
      ]
    },
    {
      "cell_type": "markdown",
      "id": "b62fb321",
      "metadata": {
        "id": "b62fb321"
      },
      "source": [
        "## RANDOM FOREST "
      ]
    },
    {
      "cell_type": "code",
      "execution_count": null,
      "id": "bfe38b2e",
      "metadata": {
        "id": "bfe38b2e"
      },
      "outputs": [],
      "source": [
        "# Definisi Y\n",
        "y = mydata['price_range']\n",
        "\n",
        "# Definisi X\n",
        "X = mydata.drop(['price_range'], axis=1)\n",
        "                 \n",
        "# Split Data\n",
        "X_train, X_test, y_train, y_test = train_test_split(X, y, test_size = 0.3, random_state = 100)"
      ]
    },
    {
      "cell_type": "code",
      "execution_count": null,
      "id": "a5b822a5",
      "metadata": {
        "id": "a5b822a5"
      },
      "outputs": [],
      "source": [
        "#BUAT MODEL\n",
        "# Create Decision Tree classifer object\n",
        "clf2 = RandomForestClassifier(random_state = 100)\n",
        "\n",
        "# Train Decision Tree Classifer\n",
        "clf2 = clf2.fit(X_train,y_train)\n",
        "\n",
        "#Predict the response for test dataset\n",
        "y_pred = clf2.predict(X_test)"
      ]
    },
    {
      "cell_type": "code",
      "execution_count": null,
      "id": "4797ad23",
      "metadata": {
        "colab": {
          "base_uri": "https://localhost:8080/"
        },
        "id": "4797ad23",
        "outputId": "816fd997-11d0-4ae9-a4f7-c3636f9034cd"
      },
      "outputs": [
        {
          "output_type": "stream",
          "name": "stdout",
          "text": [
            "Accuracy: 0.8516666666666667\n"
          ]
        }
      ],
      "source": [
        "score = clf2.score(X_train, y_train)\n",
        "\n",
        "# EVALUASI MODEL Accuracy Random Forest\n",
        "print(\"Accuracy:\",metrics.accuracy_score(y_test, y_pred))\n",
        "\n",
        "clf2.fit(X_train, y_train)\n",
        "\n",
        "y_pred_clf2 = y_pred\n"
      ]
    },
    {
      "cell_type": "code",
      "execution_count": null,
      "id": "9ec48419",
      "metadata": {
        "id": "9ec48419"
      },
      "outputs": [],
      "source": [
        "\n",
        "from sklearn.metrics import confusion_matrix\n",
        "tn, fp, fn, tp = confusion_matrix([0, 1, 0, 1], [1, 1, 1, 0]).ravel()\n",
        "\n",
        "from sklearn.metrics import accuracy_score, recall_score, roc_auc_score\n",
        "\n",
        "#use model to predict probability that given y value is 1\n",
        "y_pred_proba_clf2 = clf2.predict_proba(X_test)[::,1]\n",
        "\n",
        "accuracy_clf2 = round(accuracy_score(y_test, y_pred_clf2), 2)\n",
        "sensitivity_clf2 = round(recall_score(y_test, y_pred_clf2, average='weighted'),2)\n",
        "spesificity_clf2 = round(tn / (tn+fp), 2)\n",
        "roc_auc_clf2 = round(tn/(tn+tp), 2)"
      ]
    },
    {
      "cell_type": "markdown",
      "source": [
        "**K FOLD Random Forest**"
      ],
      "metadata": {
        "id": "BltJ6n-7ET52"
      },
      "id": "BltJ6n-7ET52"
    },
    {
      "cell_type": "code",
      "execution_count": null,
      "id": "33b8f2aa",
      "metadata": {
        "id": "33b8f2aa",
        "colab": {
          "base_uri": "https://localhost:8080/"
        },
        "outputId": "9a55efd6-f71d-4264-94fe-13e76ca1deea"
      },
      "outputs": [
        {
          "output_type": "stream",
          "name": "stdout",
          "text": [
            "Accuracy: 0.864 (0.029)\n"
          ]
        }
      ],
      "source": [
        "from sklearn.model_selection import cross_val_score\n",
        "from numpy import mean\n",
        "from numpy import std\n",
        "\n",
        "# Prepare the cross-validation procedure\n",
        "cv3 = KFold(n_splits=10, random_state=100, shuffle=True)\n",
        "\n",
        "# Train Random Forest Classifier\n",
        "score = clf2.fit(X_train, y_train)\n",
        "\n",
        "# Predict The Response for Test Dataset\n",
        "y_pred = clf2.predict(X_test)\n",
        "\n",
        "y_pred_clf2 = y_pred\n",
        "\n",
        "# Evaluate The Model K FOld\n",
        "scores = cross_val_score(clf2, X, y, scoring='accuracy', cv=cv3, n_jobs=-1)\n",
        "\n",
        "# Report The Performance\n",
        "print('Accuracy: %.3f (%.3f)' % (mean(scores), std(scores)))\n",
        "\n"
      ]
    },
    {
      "cell_type": "markdown",
      "source": [
        "**Repeated K Fold**"
      ],
      "metadata": {
        "id": "QUMloTp8N_c8"
      },
      "id": "QUMloTp8N_c8"
    },
    {
      "cell_type": "code",
      "source": [
        "\n",
        "from sklearn.model_selection import KFold, RepeatedKFold\n",
        "\n",
        "# Prepare the cross-validation procedure\n",
        "rcv3 = RepeatedKFold(n_splits=10)\n",
        "\n",
        "rcv3.split(X)\n",
        "\n",
        "# Train Random Forest Classifier\n",
        "score = clf2.fit(X_train, y_train)\n",
        "\n",
        "# Predict The Response for Test Dataset\n",
        "y_pred = clf2.predict(X_test)\n",
        "\n",
        "y_pred_clf2 = y_pred\n",
        "\n",
        "# Evaluate The Model K FOld\n",
        "scores = cross_val_score(clf2, X, y, scoring='accuracy', cv=rcv3, n_jobs=-1)\n",
        "\n",
        "# Report The Performance\n",
        "print('Accuracy: %.3f (%.3f)' % (mean(scores), std(scores)))"
      ],
      "metadata": {
        "colab": {
          "base_uri": "https://localhost:8080/"
        },
        "id": "vIekTYkh4n7D",
        "outputId": "4c74f31c-fdd8-40a8-f2c3-bf892608ac66"
      },
      "id": "vIekTYkh4n7D",
      "execution_count": null,
      "outputs": [
        {
          "output_type": "stream",
          "name": "stdout",
          "text": [
            "Accuracy: 0.862 (0.022)\n"
          ]
        }
      ]
    },
    {
      "cell_type": "markdown",
      "source": [
        "**Repeated Holdout Random Forest**"
      ],
      "metadata": {
        "id": "tBBY5JwTH6_D"
      },
      "id": "tBBY5JwTH6_D"
    },
    {
      "cell_type": "code",
      "source": [
        "from sklearn.model_selection import ShuffleSplit\n",
        "\n",
        "rs = ShuffleSplit(n_splits=10, random_state=100)\n",
        "\n",
        "# Evaluate The Model Repeated Holdout\n",
        "scores = cross_val_score(clf2, X, y, scoring='accuracy', cv=rs)\n",
        "\n",
        "# Report The Performance\n",
        "print('Accuracy: %.3f (%.3f)' % (mean(scores), std(scores)))"
      ],
      "metadata": {
        "colab": {
          "base_uri": "https://localhost:8080/"
        },
        "id": "ZhgwlSRsMoLK",
        "outputId": "4fb0fee8-9b4d-4e82-90c0-899f8931bcc9"
      },
      "id": "ZhgwlSRsMoLK",
      "execution_count": null,
      "outputs": [
        {
          "output_type": "stream",
          "name": "stdout",
          "text": [
            "Accuracy: 0.868 (0.022)\n"
          ]
        }
      ]
    },
    {
      "cell_type": "code",
      "source": [
        "# scores.shape\n",
        "y_pred_clf2.shape"
      ],
      "metadata": {
        "colab": {
          "base_uri": "https://localhost:8080/"
        },
        "id": "FyJsvEpsodX4",
        "outputId": "0e8a2baf-e78a-4cce-f654-9bdb8998f4e9"
      },
      "id": "FyJsvEpsodX4",
      "execution_count": null,
      "outputs": [
        {
          "output_type": "execute_result",
          "data": {
            "text/plain": [
              "(600,)"
            ]
          },
          "metadata": {},
          "execution_count": 45
        }
      ]
    },
    {
      "cell_type": "code",
      "source": [
        "print(cv3)\n",
        "print(y.shape)"
      ],
      "metadata": {
        "colab": {
          "base_uri": "https://localhost:8080/"
        },
        "id": "k4eXkdqXyuHd",
        "outputId": "ea697424-15f1-4522-e920-84085408477b"
      },
      "id": "k4eXkdqXyuHd",
      "execution_count": null,
      "outputs": [
        {
          "output_type": "stream",
          "name": "stdout",
          "text": [
            "KFold(n_splits=10, random_state=100, shuffle=True)\n",
            "(2000,)\n"
          ]
        }
      ]
    },
    {
      "cell_type": "markdown",
      "source": [
        "**ROC AUC, Specificity, Sensitivity K FOLD Random Forest**\n",
        "\n"
      ],
      "metadata": {
        "id": "5xsle4ety8xx"
      },
      "id": "5xsle4ety8xx"
    },
    {
      "cell_type": "code",
      "execution_count": null,
      "id": "de5d9a31",
      "metadata": {
        "scrolled": true,
        "id": "de5d9a31",
        "colab": {
          "base_uri": "https://localhost:8080/"
        },
        "outputId": "8a19b6f9-20d8-48f1-bb26-527eee00d80f"
      },
      "outputs": [
        {
          "output_type": "stream",
          "name": "stdout",
          "text": [
            "(2000,)\n",
            "(600,)\n",
            "(600,)\n",
            "(600,)\n",
            "ROC AUC clf2:  0.975239341980847 Spesificity clf2:  [0.91 0.08 0.    nan] Sensitivity:  0.86\n"
          ]
        },
        {
          "output_type": "stream",
          "name": "stderr",
          "text": [
            "/usr/local/lib/python3.7/dist-packages/ipykernel_launcher.py:24: RuntimeWarning: invalid value encountered in true_divide\n"
          ]
        }
      ],
      "source": [
        "from sklearn.model_selection import cross_val_predict\n",
        "\n",
        "y_pred_clf2_kfold = cross_val_predict(clf2, X, y, cv=cv3)\n",
        "print(y_pred_clf2_kfold.shape)\n",
        "\n",
        "from sklearn.metrics import confusion_matrix\n",
        "tn, fp, fn, tp = confusion_matrix(y, y_pred_clf2_kfold)\n",
        "\n",
        "from sklearn.metrics import accuracy_score, recall_score, roc_auc_score\n",
        "\n",
        "\n",
        "# y_pred_clf2_kfold = y_pred_clf2_kfold.reshape(600,)\n",
        "\n",
        "#use model to predict probability that given y value is 1\n",
        "print(y_pred_proba_clf2.shape)\n",
        "print(y_test.shape)\n",
        "\n",
        "# y_pred_proba_clf2 = y_pred_proba_clf2.reshape(600,1)\n",
        "# y_test = y_test.reshape((600,1))\n",
        "print(y_pred_proba_clf2.shape)\n",
        "\n",
        "\n",
        "sensitivity_clf2 = round(recall_score(y, y_pred_clf2_kfold, average='weighted'),2)\n",
        "spesifisity_clf2 = np.round(tn / (tn+fp), 2)\n",
        "roc_auc_clf2 = roc_auc_score(y_test, clf2.predict_proba(X_test), multi_class=\"ovr\")\n",
        "print(\"ROC AUC clf2: \", roc_auc_clf2,\"Spesificity clf2: \", spesifisity_clf2, \"Sensitivity: \", sensitivity_clf2)"
      ]
    },
    {
      "cell_type": "markdown",
      "source": [
        "**ROC AUC, Specificity, Sensitivity Repeated Holdout Random Forest**\n",
        "\n"
      ],
      "metadata": {
        "id": "WuuxKm88zN-K"
      },
      "id": "WuuxKm88zN-K"
    },
    {
      "cell_type": "code",
      "source": [
        "sp = ShuffleSplit(n_splits=10, random_state=100)\n",
        "\n",
        "for train_rh, test_rh in sp.split(X):\n",
        "  X_train_rh, X_test_rh = X.iloc[train_rh], X.iloc[test_rh]\n",
        "  y_train_rh, y_test_rh = y.iloc[train_rh], y.iloc[test_rh]\n",
        "\n",
        "# Train Random Forest Classifier\n",
        "# score = clf2.fit(X_train_rh, y_train_rh)\n",
        "\n",
        "# Predict The Response for Test Dataset\n",
        "y_pred_rh = clf2.predict(X_test_rh)\n",
        "\n",
        "\n",
        "from sklearn.metrics import confusion_matrix\n",
        "tn2, fp2, fn2, tp2 = confusion_matrix(y_test_rh, y_pred_rh)\n",
        "\n",
        "from sklearn.metrics import accuracy_score, recall_score, roc_auc_score\n",
        "\n",
        "\n",
        "# y_pred_clf2_kfold = y_pred_clf2_kfold.reshape(600,)\n",
        "\n",
        "#use model to predict probability that given y value is 1\n",
        "print(y_pred_rh)\n",
        "print(y_test_rh.shape)\n",
        "\n",
        "# y_pred_proba_clf2 = y_pred_proba_clf2.reshape(600,1)\n",
        "# y_test = y_test.reshape((600,1))\n",
        "print(y_pred_rh.shape)\n",
        "\n",
        "\n",
        "sensitivity_clf2_rh = round(recall_score(y_test_rh, y_pred_rh, average='weighted'),2)\n",
        "spesifisity_clf2_rh = np.round(tn2 / (tn2+fp2), 2)\n",
        "roc_auc_clf2_rh = roc_auc_score(y_test_rh, clf2.predict_proba(X_test_rh), multi_class=\"ovr\")\n",
        "print(\"ROC AUC clf2: \", roc_auc_clf2_rh,\"Spesificity clf2: \", spesifisity_clf2_rh, \"Sensitivity: \", sensitivity_clf2_rh)\n",
        "\n",
        "\n"
      ],
      "metadata": {
        "colab": {
          "base_uri": "https://localhost:8080/"
        },
        "id": "7CL9faigXS3A",
        "outputId": "5202949e-09ef-4a53-d021-4dd489688108"
      },
      "id": "7CL9faigXS3A",
      "execution_count": null,
      "outputs": [
        {
          "output_type": "stream",
          "name": "stdout",
          "text": [
            "[0 2 1 2 1 0 2 1 0 2 0 0 0 1 3 0 2 2 2 3 0 0 3 2 1 3 0 0 1 1 3 0 2 3 3 3 3\n",
            " 0 0 0 2 2 0 2 3 3 0 2 2 3 1 3 3 2 0 1 2 0 3 2 3 1 1 0 1 1 2 3 1 1 3 3 2 3\n",
            " 1 1 1 0 1 1 1 0 2 1 3 0 1 0 0 3 2 1 0 2 0 0 3 0 1 3 3 1 0 2 0 0 3 3 2 1 0\n",
            " 1 3 3 3 1 3 1 0 0 2 1 1 2 2 1 1 2 1 0 0 1 3 0 3 1 3 0 2 1 3 1 1 2 0 1 2 3\n",
            " 3 2 2 3 0 2 1 2 3 0 1 0 1 1 0 2 2 1 1 3 2 1 2 2 2 0 3 1 2 1 0 3 0 0 3 0 1\n",
            " 2 2 0 0 3 0 1 0 1 2 2 1 2 1 1]\n",
            "(200,)\n",
            "(200,)\n",
            "ROC AUC clf2:  0.9984966905457411 Spesificity clf2:  [1.   0.02 0.    nan] Sensitivity:  0.96\n"
          ]
        },
        {
          "output_type": "stream",
          "name": "stderr",
          "text": [
            "/usr/local/lib/python3.7/dist-packages/ipykernel_launcher.py:32: RuntimeWarning: invalid value encountered in true_divide\n"
          ]
        }
      ]
    }
  ],
  "metadata": {
    "kernelspec": {
      "display_name": "Python 3 (ipykernel)",
      "language": "python",
      "name": "python3"
    },
    "language_info": {
      "codemirror_mode": {
        "name": "ipython",
        "version": 3
      },
      "file_extension": ".py",
      "mimetype": "text/x-python",
      "name": "python",
      "nbconvert_exporter": "python",
      "pygments_lexer": "ipython3",
      "version": "3.9.7"
    },
    "colab": {
      "name": "Final Project Data Mining (1).ipynb",
      "provenance": [],
      "collapsed_sections": [],
      "include_colab_link": true
    }
  },
  "nbformat": 4,
  "nbformat_minor": 5
}
