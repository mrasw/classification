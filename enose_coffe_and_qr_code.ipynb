{
  "cells": [
    {
      "cell_type": "markdown",
      "metadata": {
        "id": "view-in-github",
        "colab_type": "text"
      },
      "source": [
        "<a href=\"https://colab.research.google.com/github/mrasw/classification/blob/main/enose_coffe_and_qr_code.ipynb\" target=\"_parent\"><img src=\"https://colab.research.google.com/assets/colab-badge.svg\" alt=\"Open In Colab\"/></a>"
      ]
    },
    {
      "cell_type": "code",
      "source": [
        "pip install pypng"
      ],
      "metadata": {
        "colab": {
          "base_uri": "https://localhost:8080/"
        },
        "id": "WPqu5jU_VsEa",
        "outputId": "4b133807-1f5b-460b-e707-9d4f6064a2a2"
      },
      "execution_count": 1,
      "outputs": [
        {
          "output_type": "stream",
          "name": "stdout",
          "text": [
            "Looking in indexes: https://pypi.org/simple, https://us-python.pkg.dev/colab-wheels/public/simple/\n",
            "Collecting pypng\n",
            "  Downloading pypng-0.0.21-py3-none-any.whl (48 kB)\n",
            "\u001b[K     |████████████████████████████████| 48 kB 2.7 MB/s \n",
            "\u001b[?25hInstalling collected packages: pypng\n",
            "Successfully installed pypng-0.0.21\n"
          ]
        }
      ]
    },
    {
      "cell_type": "code",
      "source": [
        "pip install zbar-py"
      ],
      "metadata": {
        "colab": {
          "base_uri": "https://localhost:8080/"
        },
        "id": "KZHKjDsJVt7k",
        "outputId": "dedbcc1b-0947-4735-d45a-bcb7c02f183c"
      },
      "execution_count": 8,
      "outputs": [
        {
          "output_type": "stream",
          "name": "stdout",
          "text": [
            "  Building wheel for zbar-py (setup.py) ... \u001b[?25l\u001b[?25hdone\n",
            "  Created wheel for zbar-py: filename=zbar_py-1.0.4-cp37-cp37m-linux_x86_64.whl size=201281 sha256=06f2f52ae78fe6580f229bfe88bb19ff557378d403f645b4ae93742b9bdfe2b2\n",
            "  Stored in directory: /root/.cache/pip/wheels/87/19/bc/ae6963a059ba9263ed246bb6aac6328affc4936b81d9fd62a6\n",
            "Successfully built zbar-py\n",
            "Installing collected packages: zbar-py\n",
            "Successfully installed zbar-py-1.0.4\n",
            "Looking in indexes: https://pypi.org/simple, https://us-python.pkg.dev/colab-wheels/public/simple/\n",
            "Requirement already satisfied: zbar-py in /usr/local/lib/python3.7/dist-packages (1.0.4)\n",
            "Requirement already satisfied: numpy in /usr/local/lib/python3.7/dist-packages (from zbar-py) (1.21.6)\n"
          ]
        }
      ]
    },
    {
      "cell_type": "code",
      "source": [
        "from google.colab import drive\n",
        "drive.mount('/content/drive')"
      ],
      "metadata": {
        "colab": {
          "base_uri": "https://localhost:8080/"
        },
        "id": "5njSOQqj20GS",
        "outputId": "d9639671-73e6-46e5-a2f0-65306646961c"
      },
      "execution_count": 17,
      "outputs": [
        {
          "output_type": "stream",
          "name": "stdout",
          "text": [
            "Drive already mounted at /content/drive; to attempt to forcibly remount, call drive.mount(\"/content/drive\", force_remount=True).\n"
          ]
        }
      ]
    },
    {
      "cell_type": "code",
      "source": [
        "pip install pillow"
      ],
      "metadata": {
        "id": "H1H7a4QUQt3k",
        "outputId": "9ae1dc58-b7a2-4c7e-b31e-351adae65fcc",
        "colab": {
          "base_uri": "https://localhost:8080/"
        }
      },
      "execution_count": 3,
      "outputs": [
        {
          "output_type": "stream",
          "name": "stdout",
          "text": [
            "Looking in indexes: https://pypi.org/simple, https://us-python.pkg.dev/colab-wheels/public/simple/\n",
            "Requirement already satisfied: pillow in /usr/local/lib/python3.7/dist-packages (7.1.2)\n"
          ]
        }
      ]
    },
    {
      "cell_type": "code",
      "source": [
        "pip install qrcode"
      ],
      "metadata": {
        "id": "-E5IYlUcQwsU",
        "outputId": "e4cc078b-e9e3-4bc3-d0fa-d86197705545",
        "colab": {
          "base_uri": "https://localhost:8080/"
        }
      },
      "execution_count": 4,
      "outputs": [
        {
          "output_type": "stream",
          "name": "stdout",
          "text": [
            "Looking in indexes: https://pypi.org/simple, https://us-python.pkg.dev/colab-wheels/public/simple/\n",
            "Collecting qrcode\n",
            "  Downloading qrcode-7.3.1.tar.gz (43 kB)\n",
            "\u001b[?25l\r\u001b[K     |███████▌                        | 10 kB 19.0 MB/s eta 0:00:01\r\u001b[K     |███████████████                 | 20 kB 12.5 MB/s eta 0:00:01\r\u001b[K     |██████████████████████▋         | 30 kB 9.6 MB/s eta 0:00:01\r\u001b[K     |██████████████████████████████▏ | 40 kB 8.8 MB/s eta 0:00:01\r\u001b[K     |████████████████████████████████| 43 kB 1.1 MB/s \n",
            "\u001b[?25hBuilding wheels for collected packages: qrcode\n",
            "  Building wheel for qrcode (setup.py) ... \u001b[?25l\u001b[?25hdone\n",
            "  Created wheel for qrcode: filename=qrcode-7.3.1-py3-none-any.whl size=40402 sha256=52ec47dd93e610bb939a52773664ffecc9a9eabbeb961e159508dd5b468105b1\n",
            "  Stored in directory: /root/.cache/pip/wheels/93/d7/39/a4111be2cfb8e679938aa671a37888b6afb1f9e7d748e94492\n",
            "Successfully built qrcode\n",
            "Installing collected packages: qrcode\n",
            "Successfully installed qrcode-7.3.1\n"
          ]
        }
      ]
    },
    {
      "cell_type": "code",
      "source": [
        "import pandas as pd\n",
        "import qrcode\n",
        "from sklearn.model_selection import train_test_split\n",
        "from sklearn.metrics import accuracy_score, confusion_matrix, classification_report\n",
        "from sklearn.tree import DecisionTreeClassifier\n",
        "from sklearn import tree\n",
        "import numpy as np"
      ],
      "metadata": {
        "id": "5wV96J-7Q4zg"
      },
      "execution_count": 19,
      "outputs": []
    },
    {
      "cell_type": "code",
      "source": [
        "from google.colab import drive\n",
        "data = pd.read_csv('/content/drive/MyDrive/coffee classification and qr code/DatasetFix.csv')\n",
        "data\n",
        "df = pd.DataFrame(data)\n",
        "\n",
        "atr_data = data.drop(columns='Kelas')\n",
        "atr_data.head()\n",
        "\n",
        "cls_data = data ['Kelas']\n",
        "cls_data.head()"
      ],
      "metadata": {
        "colab": {
          "base_uri": "https://localhost:8080/"
        },
        "id": "yCvqHcnBRcSX",
        "outputId": "e06ebe6c-acb8-45aa-a375-36d4a207ff47"
      },
      "execution_count": 20,
      "outputs": [
        {
          "output_type": "execute_result",
          "data": {
            "text/plain": [
              "0    Robusta\n",
              "1    Robusta\n",
              "2    Robusta\n",
              "3    Robusta\n",
              "4    Robusta\n",
              "Name: Kelas, dtype: object"
            ]
          },
          "metadata": {},
          "execution_count": 20
        }
      ]
    },
    {
      "cell_type": "code",
      "source": [
        "first_column = df.iloc[:0]\n",
        "print(first_column)"
      ],
      "metadata": {
        "colab": {
          "base_uri": "https://localhost:8080/"
        },
        "id": "u70KrP5KthxS",
        "outputId": "eaa9facc-568b-41c7-b11d-1f03b1a8d87e"
      },
      "execution_count": 21,
      "outputs": [
        {
          "output_type": "stream",
          "name": "stdout",
          "text": [
            "Empty DataFrame\n",
            "Columns: [Average CO2, Standart Deviasi CO2, Standart Deviasi CO, Skewness CO2, Kelas]\n",
            "Index: []\n"
          ]
        }
      ]
    },
    {
      "cell_type": "code",
      "source": [
        "X_train, X_test, y_train, y_test = train_test_split(atr_data, cls_data, test_size=0.2,random_state=0)\n",
        "clf = tree.DecisionTreeClassifier()\n",
        "clf.fit(X_train, y_train)\n",
        "y_pred = clf.predict(X_test)\n",
        "\n",
        "y_pred"
      ],
      "metadata": {
        "id": "cUiAXFH1Sbn4",
        "colab": {
          "base_uri": "https://localhost:8080/"
        },
        "outputId": "3385876b-db40-48bb-9938-2381b1fa7b37"
      },
      "execution_count": 28,
      "outputs": [
        {
          "output_type": "execute_result",
          "data": {
            "text/plain": [
              "array(['Arabica', 'Excelso', 'Arabica', 'Arabica', 'Excelso', 'Excelso'],\n",
              "      dtype=object)"
            ]
          },
          "metadata": {},
          "execution_count": 28
        }
      ]
    },
    {
      "cell_type": "code",
      "source": [
        "from sklearn.metrics import classification_report\n",
        "print(classification_report(y_test, y_pred))"
      ],
      "metadata": {
        "colab": {
          "base_uri": "https://localhost:8080/"
        },
        "id": "-jLdsAejSzvJ",
        "outputId": "2eca47da-dc01-4754-c950-c6b5c90d0d92"
      },
      "execution_count": 29,
      "outputs": [
        {
          "output_type": "stream",
          "name": "stdout",
          "text": [
            "              precision    recall  f1-score   support\n",
            "\n",
            "     Arabica       0.67      1.00      0.80         2\n",
            "     Excelso       1.00      1.00      1.00         3\n",
            "     Robusta       0.00      0.00      0.00         1\n",
            "\n",
            "    accuracy                           0.83         6\n",
            "   macro avg       0.56      0.67      0.60         6\n",
            "weighted avg       0.72      0.83      0.77         6\n",
            "\n"
          ]
        },
        {
          "output_type": "stream",
          "name": "stderr",
          "text": [
            "/usr/local/lib/python3.7/dist-packages/sklearn/metrics/_classification.py:1318: UndefinedMetricWarning: Precision and F-score are ill-defined and being set to 0.0 in labels with no predicted samples. Use `zero_division` parameter to control this behavior.\n",
            "  _warn_prf(average, modifier, msg_start, len(result))\n",
            "/usr/local/lib/python3.7/dist-packages/sklearn/metrics/_classification.py:1318: UndefinedMetricWarning: Precision and F-score are ill-defined and being set to 0.0 in labels with no predicted samples. Use `zero_division` parameter to control this behavior.\n",
            "  _warn_prf(average, modifier, msg_start, len(result))\n",
            "/usr/local/lib/python3.7/dist-packages/sklearn/metrics/_classification.py:1318: UndefinedMetricWarning: Precision and F-score are ill-defined and being set to 0.0 in labels with no predicted samples. Use `zero_division` parameter to control this behavior.\n",
            "  _warn_prf(average, modifier, msg_start, len(result))\n"
          ]
        }
      ]
    },
    {
      "cell_type": "code",
      "source": [
        "jenis_kopi = ['Uji_Robusta','Uji_Arabica','Uji_Excelso']\n",
        "a = 1\n",
        "for i in jenis_kopi:\n",
        "  uji = pd.read_csv('/content/drive/MyDrive/coffee classification and qr code/'+ i + '.csv')\n",
        "\n",
        "  atr_uji = uji.drop(columns='Kelas')\n",
        "  atr_uji.head()\n",
        "\n",
        "  clf = tree.DecisionTreeClassifier()\n",
        "  clf.fit(X_train, y_train)\n",
        "  y_uji = clf.predict(atr_uji)\n",
        "\n",
        "  y_uji\n",
        "  print(y_uji)\n",
        "  \n",
        "  if y_uji == \"Robusta\":\n",
        "    print(\"Robusta\")\n",
        "    lokasi = \"Surabaya\"\n",
        "    tanggal_prod = \"22-05-2022\"\n",
        "    tanggal_exp = \"22-05-2023\"\n",
        "    Kode_Pos = \"60111\"\n",
        "    x = np.append(y_uji,(lokasi,tanggal_prod,tanggal_exp,Kode_Pos))\n",
        "  elif y_uji == \"Arabica\":\n",
        "      print(\"Arabica\")\n",
        "      lokasi = \"Jombang\"\n",
        "      tanggal_prod = \"18-04-2022\"\n",
        "      tanggal_exp = \"18-04-2023\"\n",
        "      Kode_Pos = \"80123\"\n",
        "      x = np.append(y_uji,(lokasi,tanggal_prod,tanggal_exp,Kode_Pos))\n",
        "  elif y_uji == \"Excelso\":\n",
        "      print(\"Exelso\")\n",
        "      lokasi = \"Kediri\"\n",
        "      tanggal_prod = \"30-03-2022\"\n",
        "      tanggal_exp = \"30-03-2023\"\n",
        "      Kode_Pos = \"54222\"\n",
        "      x = np.append(y_uji,(lokasi,tanggal_prod,tanggal_exp,Kode_Pos))\n",
        "\n",
        "  qr = qrcode.QRCode(\n",
        "        version=1,\n",
        "        box_size=10,\n",
        "        border=5)\n",
        "  qr.add_data(x)\n",
        "  qr.make(fit=True)\n",
        "\n",
        "  print(a)\n",
        "  img = qr.make_image(fill='black', back_color='white')\n",
        "  img.save('qrcode'+ str(a) +'.png')\n",
        "  a=a+1"
      ],
      "metadata": {
        "colab": {
          "base_uri": "https://localhost:8080/"
        },
        "id": "UKrWvM6xSUvy",
        "outputId": "9d297fb8-3d36-4a2e-a819-53202a97a0e9"
      },
      "execution_count": 45,
      "outputs": [
        {
          "output_type": "stream",
          "name": "stdout",
          "text": [
            "['Robusta']\n",
            "Robusta\n",
            "1\n",
            "['Arabica']\n",
            "Arabica\n",
            "2\n",
            "['Excelso']\n",
            "Exelso\n",
            "3\n"
          ]
        }
      ]
    }
  ],
  "metadata": {
    "colab": {
      "collapsed_sections": [],
      "name": "enose coffe and qr code",
      "provenance": [],
      "include_colab_link": true
    },
    "kernelspec": {
      "display_name": "Python 3",
      "name": "python3"
    }
  },
  "nbformat": 4,
  "nbformat_minor": 0
}